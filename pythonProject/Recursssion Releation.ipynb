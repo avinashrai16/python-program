{
 "cells": [
  {
   "cell_type": "markdown",
   "metadata": {},
   "source": [
    "# 1. Find the value of T(2) for the recurrence relation T(n) = 3T(n-1) + 12n, given that T(0)=5."
   ]
  },
  {
   "cell_type": "markdown",
   "metadata": {},
   "source": [
    "T(n) = 3T(n-1) + 12n -- recurrence relation\n",
    "T(0) = 5 -- given\n",
    "\n",
    "---Equation 1 for n = 1\n",
    "\n",
    "T(1)=3T(1-1)+12*1\n",
    "T(1)=3T(0)+12*1\n",
    "T(1)=3*5 + 12 # Replacing T(0) with 5 as T(0) = 5\n",
    "T(1)=15 + 12\n",
    "T(1)= 27\n",
    "\n",
    "---Equation 2 for n= 2\n",
    "T(2)=3T(2-1)+12*2\n",
    "T(2)=3T(1)+24 # T(1)= 27 from above\n",
    "T(2)=3*27+24\n",
    "T(2)=81+24\n",
    "T(2)=105"
   ]
  },
  {
   "cell_type": "markdown",
   "metadata": {},
   "source": [
    "# 2. Given a recurrence relation, solve it using the substitution method: a. T(n) = T(n-1) + c the time complexity will be O(n) below is the steps "
   ]
  },
  {
   "cell_type": "markdown",
   "metadata": {},
   "source": [
    "T(n) = T(n-1) + c \n",
    "taking base case n = 1 return 1\n",
    "get the value of T(n-1) ,T(n-2), T(n-3) by replacing values in the above relation\n",
    "T(n-1) = T(n-1-1)+c = T(n-2)+c\n",
    "T(n-2) = T(n-2-1)+c = T(n-3)+c\n",
    "T(n-3) = T(n-3-1)+c = T(n-4)+c\n",
    "\n",
    "\n",
    "<!-- # start replacing the values in the main equation -->\n",
    "T(n) = T(n-1) + c\n",
    "    # replace T(n-1) from above\n",
    "    =T(n-2)+c +c = T(n-2)+2c\n",
    "    # replace T(n-2) from above\n",
    "    =T(n-3)+c + 2c = T(n-3)+3c\n",
    "    # replace T(n-3) from above\n",
    "    =T(n-4)+c + 3c = T(n-4)+4c\n",
    "<!-- # assuming after K steps -->\n",
    "    =T(n-K)+Kc # main equation\n",
    "<!-- # Keeping base case in mind -->\n",
    "n-K=1\n",
    "K=n-1\n",
    "<!-- # replacing the value of k in main equation -->\n",
    "T(n) = T(n-n-1) + (n-1)*c\n",
    "    =T(1)+c*n-c\n",
    "    =1+c*n-c # c is constant\n",
    "<!-- # the biggest impacting factor is n Hence Time complexity will be -->\n",
    "\"O(n)\"\n"
   ]
  },
  {
   "cell_type": "markdown",
   "metadata": {},
   "source": [
    "# 2. Given a recurrence relation, solve it using the substitution method: b. T(n) = 2T(n/2) + n time complexity O(n*logn with base 2)"
   ]
  },
  {
   "cell_type": "markdown",
   "metadata": {},
   "source": [
    "T(n) = 2T(n/2) + n # EQ1\n",
    "<!-- # get the value of T(n/2) -->\n",
    "T(n/2)=2T(n/2^2) + n/2\n",
    "<!-- # replacing the value of T(n/2) in EQ1 -->\n",
    "T(n)=2(2T(n/2^2) + n/2) +n = 2^2T(n/2^2)+n+n # EQ2\n",
    "<!-- # get the value of T(n/2^2) -->\n",
    "T(n/2^2) = 2T(n/2^3) + n/2^2\n",
    "<!-- # replacing the value of T(n/2^2) in EQ2 -->\n",
    "T(n)=2^2(2T(n/2^3) + n/2^2)+n+n = 2^3T(n/2^3)+n+n+n # EQ3\n",
    "\n",
    "<!-- # after k steps -->\n",
    "=2^k(n/2^k)+k*n  # EQ4\n",
    "<!-- # keeping base case -->\n",
    "n/2^k = 1\n",
    "n = 2^k --- a\n",
    "<!-- #taking log with base 2 -->\n",
    "k = log n base 2 ---b\n",
    "<!-- # putting the value of K in EQ4 -->\n",
    "=2^k(n/2^k)+k*n\n",
    "<!-- # using a and b mentioned below -->\n",
    "=n(1)+n*log n base 2\n",
    "=n+n*logn\n",
    "<!-- # # the biggest impacting factor so the time complexity of above equation would be  -->\n",
    "\"O(n*logn)\""
   ]
  },
  {
   "cell_type": "markdown",
   "metadata": {},
   "source": [
    "# 2. Given a recurrence relation, solve it using the substitution method: c. T(n) = 2T(n/2) + c time complexity will be O(n)"
   ]
  },
  {
   "cell_type": "markdown",
   "metadata": {},
   "source": [
    "\n",
    "T(n) = 2T(n/2) + c\n",
    "= 2(2T(n/2^2))+c+c\n",
    "= 2^2(T(n/2^2))+2c #--- EQ2\n",
    "=2^2(2T(n/2^3))+3c\n",
    "=2^3(T(n/2^3))+3c\n",
    "\n",
    "<!-- #  after K steps -->\n",
    "=2^kT(n/2^k)+k*c\n",
    "\n",
    "<!-- # for the base case -->\n",
    "n/2^k = 1\n",
    "n = 2^k or 2^k = n\n",
    "k = log n with base2\n",
    "<!-- # for the base case -->\n",
    "T(n) = nT(1)+log n*c\n",
    " = n+ logn*c\n",
    "<!-- # the biggest impacting factor is n Hence Time complexity will be -->\n",
    "\"O(n)\""
   ]
  },
  {
   "cell_type": "markdown",
   "metadata": {},
   "source": [
    "# 2. Given a recurrence relation, solve it using the substitution method: d. T(n) = T(n/2) + c time complexity will be O(log n)"
   ]
  },
  {
   "cell_type": "markdown",
   "metadata": {},
   "source": [
    "\n",
    "T(n)\n",
    "=T(n/2) + c #--- EQ1\n",
    "=T(n/2^2)+2c\n",
    "=T(n/2^2)+2c #--- EQ2\n",
    "=T(n/2^3)+3c #--- EQ3\n",
    "\n",
    "<!-- #  after K steps -->\n",
    "=T(n/2^k)+k*c\n",
    "\n",
    "<!-- # for the base case -->\n",
    "n/2^k = 1\n",
    "n = 2^k or 2^k = n\n",
    "k = log n with base2\n",
    "<!-- # for the base case -->\n",
    "T(n) = T(1)+log n*c\n",
    " = 1+ log n*c\n",
    "<!-- # the biggest impacting factor is n Hence Time complexity will be -->\n",
    "\"O(log n)\""
   ]
  },
  {
   "cell_type": "markdown",
   "metadata": {},
   "source": [
    "# 3. Given a recurrence relation, solve it using the recursive tree approach: a. T(n) = 2T(n-1) +1"
   ]
  },
  {
   "cell_type": "markdown",
   "metadata": {},
   "source": [
    "<!-- # as this is a recursive tree approach I am not able to draw a tree here.\n",
    "# but the calculation will be as per GP series formula -->\n",
    "Time complexity for above will be \"O(2^n)\" i.e. exponential complexity\n"
   ]
  },
  {
   "cell_type": "markdown",
   "metadata": {},
   "source": [
    "# 3. Given a recurrence relation, solve it using the recursive tree approach: b.T(n) = 2T(n/2) + n"
   ]
  },
  {
   "cell_type": "markdown",
   "metadata": {},
   "source": [
    "Time complexity for above will be \"O(nlogn)\" i.e.exponential complexity"
   ]
  }
 ],
 "metadata": {
  "language_info": {
   "name": "python"
  }
 },
 "nbformat": 4,
 "nbformat_minor": 2
}
