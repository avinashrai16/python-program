{
 "cells": [
  {
   "cell_type": "code",
   "execution_count": 5,
   "metadata": {},
   "outputs": [
    {
     "name": "stdout",
     "output_type": "stream",
     "text": [
      "the given string is \n",
      "the reverse of the string is \n"
     ]
    }
   ],
   "source": [
    "# 1.Write a program to reverse a string.\n",
    "input_str = input(\"give me a string to reverse\")\n",
    "print(f\"the given string is {input_str}\")\n",
    "print(f\"the reverse of the string is {input_str[::-1]}\")"
   ]
  },
  {
   "cell_type": "code",
   "execution_count": 6,
   "metadata": {},
   "outputs": [
    {
     "name": "stdout",
     "output_type": "stream",
     "text": [
      "the given string is palindrome\n"
     ]
    }
   ],
   "source": [
    "# 2. Check if a string is a palindrome.\n",
    "input_str = input(\"give me a string to check palindrome\")\n",
    "print(\"the given string is palindrome\" if input_str == input_str[::-1] else \"the given string is not palindrome\")"
   ]
  },
  {
   "cell_type": "code",
   "execution_count": 7,
   "metadata": {},
   "outputs": [
    {
     "name": "stdout",
     "output_type": "stream",
     "text": [
      "the given string is \n",
      "the uppercase of the string is \n"
     ]
    }
   ],
   "source": [
    "# 3. Convert a string to uppercase.\n",
    "input_str = input(\"give me a string to convert it into uppercase\")\n",
    "print(f\"the given string is {input_str}\")\n",
    "print(f\"the uppercase of the string is {input_str.upper()}\")"
   ]
  },
  {
   "cell_type": "code",
   "execution_count": 8,
   "metadata": {},
   "outputs": [
    {
     "name": "stdout",
     "output_type": "stream",
     "text": [
      "the given string is \n",
      "the lowercase of the string is \n"
     ]
    }
   ],
   "source": [
    "# 4. Convert a string to lowercase.\n",
    "input_str = input(\"give me a string to convert it into lowercase\")\n",
    "print(f\"the given string is {input_str}\")\n",
    "print(f\"the lowercase of the string is {input_str.lower()}\")"
   ]
  },
  {
   "cell_type": "code",
   "execution_count": 9,
   "metadata": {},
   "outputs": [
    {
     "name": "stdout",
     "output_type": "stream",
     "text": [
      "the given string is \n",
      " the given string  has 0 vowel\n"
     ]
    }
   ],
   "source": [
    "# 5. Count the number of vowels in a string.\n",
    "input_str = input(\"give me a string to count the number of vowels\")\n",
    "vowel_str = \"aeiouAEIOU\"\n",
    "print(f\"the given string is {input_str}\")\n",
    "vowel_count = len([x for x in input_str if x in vowel_str])\n",
    "print(f\" the given string {input_str} has {vowel_count} vowel\")"
   ]
  },
  {
   "cell_type": "code",
   "execution_count": 10,
   "metadata": {},
   "outputs": [
    {
     "name": "stdout",
     "output_type": "stream",
     "text": [
      "the given string is \n",
      " the given string  has 0 consonant\n"
     ]
    }
   ],
   "source": [
    "# 6 . Count the number of consonants in a string.\n",
    "input_str = input(\"give me a string to count the number of vowels\")\n",
    "vowel_str = \"aeiouAEIOU\"\n",
    "print(f\"the given string is {input_str}\")\n",
    "consonant_count = len([x for x in input_str if x not in vowel_str])\n",
    "print(f\" the given string {input_str} has {consonant_count} consonant\")"
   ]
  },
  {
   "cell_type": "code",
   "execution_count": 11,
   "metadata": {},
   "outputs": [
    {
     "name": "stdout",
     "output_type": "stream",
     "text": [
      "the given string is \n",
      "the trimmed string is:\n"
     ]
    }
   ],
   "source": [
    "# 7 . Remove all whitespaces from a string.\n",
    "input_str = input(\"give me a string with some whitespace\")\n",
    "print(f\"the given string is {input_str}\")\n",
    "trimmed_str = \"\".join([x for x in input_str if x != \" \"])\n",
    "print(f\"the trimmed string is:{trimmed_str}\")"
   ]
  },
  {
   "cell_type": "code",
   "execution_count": 12,
   "metadata": {},
   "outputs": [
    {
     "name": "stdout",
     "output_type": "stream",
     "text": [
      "the given string is \n",
      "length of the given string is :0\n"
     ]
    }
   ],
   "source": [
    "# 8. Find the length of a string without using the `len()` function.\n",
    "input_str = input(\"give me a string for calculating it's length\")\n",
    "print(f\"the given string is {input_str}\")\n",
    "char_counter = 0\n",
    "for char in input_str:\n",
    "    char_counter = char_counter+1\n",
    "print(f\"length of the given string is :{char_counter}\")"
   ]
  },
  {
   "cell_type": "code",
   "execution_count": 13,
   "metadata": {},
   "outputs": [
    {
     "name": "stdout",
     "output_type": "stream",
     "text": [
      "given matching word : \n",
      "Matching word not found\n"
     ]
    }
   ],
   "source": [
    "# 9. Check if a string contains a specific word.\n",
    "input_str = \"sample string to check for a word\"\n",
    "input_word = input(f\"give me a word from string '{input_str}'\")\n",
    "print(\"given matching word :\", input_word)\n",
    "print(\"Matching word found\" if len([word for word in input_str.split() if input_word == word]) > 0 else \"Matching word not found\")"
   ]
  },
  {
   "cell_type": "code",
   "execution_count": 14,
   "metadata": {},
   "outputs": [
    {
     "name": "stdout",
     "output_type": "stream",
     "text": [
      "sample string to check for a word\n"
     ]
    }
   ],
   "source": [
    "# 10 . Replace a word in a string with another word.\n",
    "input_str = \"sample string to check for a word\"\n",
    "input_match_word = input(f\"give me a word from string '{input_str}' to match \").strip()\n",
    "input_replace_word = input(f\"give me a word, with which matching word need to be replaced\").strip()\n",
    "filtered_str = \" \".join([word if input_match_word != word else input_replace_word for word in input_str.split()])\n",
    "print(filtered_str)"
   ]
  },
  {
   "cell_type": "code",
   "execution_count": 16,
   "metadata": {},
   "outputs": [
    {
     "name": "stdout",
     "output_type": "stream",
     "text": [
      "given word 'word' is present 1 times in 'sample string to check for a word'\n"
     ]
    }
   ],
   "source": [
    "# 11. Count the occurrences of a word in a string.\n",
    "input_str = \"sample string to check for a word\"\n",
    "input_match_word = input(f\"give me a word from string '{input_str}' to match \").strip()\n",
    "print(f\"given word '{input_match_word}' is present {len([word for word in input_str.split() if input_match_word == word])} times in '{input_str}'\")"
   ]
  },
  {
   "cell_type": "code",
   "execution_count": null,
   "metadata": {},
   "outputs": [],
   "source": [
    "# 12. Find the first occurrence of a word in a string.\n",
    "input_str = \"sample string to check for a word\"\n",
    "input_match_word = input(f\"give me a word from string '{input_str}' to find the first occurrence \").strip()\n",
    "print(f\"first occurrence of {input_match_word} is at {input_str.find(input_match_word)}\")"
   ]
  },
  {
   "cell_type": "code",
   "execution_count": null,
   "metadata": {},
   "outputs": [],
   "source": [
    "# 13. Find the last occurrence of a word in a string.\n",
    "input_str = \"sample string to check for a word.sample string to check for a word\"\n",
    "input_match_word = input(f\"give me a word from string '{input_str}' to find the last occurrence \").strip()\n",
    "print(f\"last occurrence of {input_match_word} is at {input_str.rfind(input_match_word)}\")"
   ]
  },
  {
   "cell_type": "code",
   "execution_count": null,
   "metadata": {},
   "outputs": [],
   "source": [
    "# 14. Split a string into a list of words.\n",
    "input_str = \"sample string to check for a word.\"\n",
    "print(f\"words present in the string '{input_str}' are {input_str.split()}\")"
   ]
  },
  {
   "cell_type": "code",
   "execution_count": null,
   "metadata": {},
   "outputs": [],
   "source": [
    "# 15. Join a list of words into a string.\n",
    "list_of_word = ['sample', 'string', 'to', 'check', 'for', 'a', 'word.']\n",
    "created_str = \" \".join(list_of_word)\n",
    "print(\"list of words \", list_of_word)\n",
    "print(\"created string\", created_str)"
   ]
  },
  {
   "cell_type": "code",
   "execution_count": null,
   "metadata": {},
   "outputs": [],
   "source": [
    "# 16. Convert a string where words are separated by spaces to one where words are separated by underscores.\n",
    "input_str = \"sample string to check for a word.sample string to check for a word\"\n",
    "updated_str = input_str.replace(\" \", \"#\")\n",
    "print(updated_str)"
   ]
  },
  {
   "cell_type": "code",
   "execution_count": null,
   "metadata": {},
   "outputs": [],
   "source": [
    "# 17. Check if a string starts with a specific word or phrase.\n",
    "input_str = \"for a word. sample string to check for a word\"\n",
    "print(input_str.startswith(\"sample string to check\"))"
   ]
  },
  {
   "cell_type": "code",
   "execution_count": null,
   "metadata": {},
   "outputs": [],
   "source": [
    "# 18. Check if a string ends with a specific word or phrase.\n",
    "input_str = \"Test for a word. Sample string to check for a word\"\n",
    "print(input_str.endswith(\"for a word\"))"
   ]
  },
  {
   "cell_type": "code",
   "execution_count": null,
   "metadata": {},
   "outputs": [],
   "source": [
    "# 19. Convert a string to title case (e.g., \"hello world\" to \"Hello World\").\n",
    "input_str = \"hello world\"\n",
    "print(input_str.title())"
   ]
  },
  {
   "cell_type": "code",
   "execution_count": null,
   "metadata": {},
   "outputs": [],
   "source": [
    "# 20. Find the longest word in a string.\n",
    "input_str = \"Sample string to check for a\"\n",
    "print(f\"longest word is {max(input_str.split(), key=len)}\")"
   ]
  },
  {
   "cell_type": "code",
   "execution_count": null,
   "metadata": {},
   "outputs": [],
   "source": [
    "# 21. Find the shortest word in a string.\n",
    "input_str = \"Sample string to check for a\"\n",
    "print(f\"longest word is {min(input_str.split(), key=len)}\")"
   ]
  },
  {
   "cell_type": "code",
   "execution_count": null,
   "metadata": {},
   "outputs": [],
   "source": [
    "# 22. Reverse the order of words in a string.\n",
    "input_str = \"Sample string to check for a\"\n",
    "updated_str = \" \".join(input_str.split()[::-1])\n",
    "print(updated_str)"
   ]
  },
  {
   "cell_type": "code",
   "execution_count": null,
   "metadata": {},
   "outputs": [],
   "source": [
    "# 23 .Check if a string is alphanumeric.\n",
    "input_str = \"Sample string\"\n",
    "print(f\"is given string is alphanumeric ? {input_str.isalnum()}\")"
   ]
  },
  {
   "cell_type": "code",
   "execution_count": null,
   "metadata": {},
   "outputs": [],
   "source": [
    "# 24. Extract all digits from a string.\n",
    "input_str = \"Sample333 string13123\"\n",
    "digit_list = [digit for digit in input_str if digit.isnumeric()]\n",
    "print(f\"digit list  in '{input_str}' is {digit_list}\")"
   ]
  },
  {
   "cell_type": "code",
   "execution_count": null,
   "metadata": {},
   "outputs": [],
   "source": [
    "\n",
    "# 25. Extract all alphabets from a string.\n",
    "input_str = \"Sample333 string13123\"\n",
    "alphabets_list = [alphabet for alphabet in input_str if alphabet.isalpha()]\n",
    "print(f\"digit list  in '{input_str}' is {alphabets_list}\")"
   ]
  },
  {
   "cell_type": "code",
   "execution_count": null,
   "metadata": {},
   "outputs": [],
   "source": [
    "# 26. Count the number of uppercase letters in a string.\n",
    "input_str = \"Sample333 string13123\"\n",
    "uppercase_list = [alphabet for alphabet in input_str if alphabet.isupper()]\n",
    "print(f\"digit list  in '{input_str}' is {uppercase_list}\")"
   ]
  },
  {
   "cell_type": "code",
   "execution_count": null,
   "metadata": {},
   "outputs": [],
   "source": [
    "# 27 . Count the number of lowercase letters in a string.\n",
    "input_str = \"Sample333 string13123\"\n",
    "lowercase_list = [alphabet for alphabet in input_str if alphabet.islower()]\n",
    "print(f\"digit list  in '{input_str}' is {lowercase_list}\")"
   ]
  },
  {
   "cell_type": "code",
   "execution_count": null,
   "metadata": {},
   "outputs": [],
   "source": [
    "# 28 . Swap the case of each character in a string.\n",
    "input_str = \"Sample333 string13123\"\n",
    "swap_case_str = \"\".join([alphabet.upper() if alphabet.islower() else alphabet.lower() for alphabet in input_str])\n",
    "print(f\"Swap case string for input string '{input_str}' is {swap_case_str}\")"
   ]
  },
  {
   "cell_type": "code",
   "execution_count": null,
   "metadata": {},
   "outputs": [],
   "source": [
    "# 29. Remove a specific word from a string.\n",
    "input_str = \"sample string to check for a word.\"\n",
    "word_to_remove = \"check\"\n",
    "updated_str = \" \".join([word for word in input_str.split() if word != word_to_remove])\n",
    "print(f\"updated string is {updated_str}\")"
   ]
  },
  {
   "cell_type": "code",
   "execution_count": null,
   "metadata": {},
   "outputs": [],
   "source": [
    "# 30. Check if a string is a valid email address.\n",
    "input_email_id = \"testte@st..com\"\n",
    "# simple validation if given email has @ .\n",
    "email_id_rule1 = \"@.\"\n",
    "email_id_rule2 = \".\"\n",
    "print(\"email id is valid \"\n",
    "      if len([x for x in input_email_id if x in email_id_rule1]) > 0 + len([x for x in input_email_id if x in email_id_rule2]) > 0\n",
    "      else \"email not valid\")"
   ]
  },
  {
   "cell_type": "code",
   "execution_count": null,
   "metadata": {},
   "outputs": [],
   "source": [
    "# 31. Extract the username from an email address string.\n",
    "input_email_id = \"test@test.com\"\n",
    "print(f\" the user name is '{input_email_id.split('@')[0]}' in the email id '{input_email_id}'\")"
   ]
  },
  {
   "cell_type": "code",
   "execution_count": null,
   "metadata": {},
   "outputs": [],
   "source": [
    "# 32 .Extract the domain name from an email address string.\n",
    "input_email_id = \"test@test.com\"\n",
    "print(f\" the domain name is '{input_email_id.split('@')[1]}' in the email id '{input_email_id}'\")"
   ]
  },
  {
   "cell_type": "code",
   "execution_count": null,
   "metadata": {},
   "outputs": [],
   "source": [
    "# 33. Replace multiple spaces in a string with a single space.\n",
    "input_string_with_space = \"test  string  with  double   or    triple  or more than    that    spaces as   well    between  words\"\n",
    "print(f\"update string '{' '.join(input_string_with_space.split())}' \")  # join the words with single space between words"
   ]
  },
  {
   "cell_type": "code",
   "execution_count": null,
   "metadata": {},
   "outputs": [],
   "source": [
    "#  34. Check if a string is a valid URL.\n",
    "from urllib.parse import urlparse\n",
    "\n",
    "\n",
    "def is_valid_url(url):\n",
    "    try:\n",
    "        result = urlparse(url)\n",
    "        # print(result)\n",
    "        return all([result.scheme, result.netloc])\n",
    "    except ValueError:\n",
    "        return False\n",
    "\n",
    "\n",
    "url1 = \"https://www.example.com\"\n",
    "url2 = \"not_a_valid_url\"\n",
    "\n",
    "print(is_valid_url(url1))  # Output: True\n",
    "print(is_valid_url(url2))  # Output: False"
   ]
  },
  {
   "cell_type": "code",
   "execution_count": null,
   "metadata": {},
   "outputs": [],
   "source": [
    "# 35. Extract the protocol (http or https) from a URL string.\n",
    "url_string = \"https://learn.pwskills.com/\"\n",
    "print(f\" the protocol is '{url_string.split(':')[0]}' as per the given URL'{url_string}'\")"
   ]
  },
  {
   "cell_type": "code",
   "execution_count": null,
   "metadata": {},
   "outputs": [],
   "source": [
    "# 36. Find the frequency of each character in a string.\n",
    "string_input = \"Find the frequency of each character in a string\"\n",
    "char_dic = {}\n",
    "for char in string_input.lower():  # making string case-insensitive\n",
    "    if char in list(char_dic.keys()):\n",
    "        char_dic.update({char: char_dic.get(char) + 1})\n",
    "    else:\n",
    "        char_dic.update({char: 1})\n",
    "print(f\"frequency of each character{char_dic}\")"
   ]
  },
  {
   "cell_type": "code",
   "execution_count": null,
   "metadata": {},
   "outputs": [],
   "source": [
    "# 37. Remove all punctuation from a string.\n",
    "\n",
    "import string\n",
    "\n",
    "def remove_punctuation(input_string):\n",
    "    # Create a translation table\n",
    "    translator = str.maketrans('', '', string.punctuation)\n",
    "    print(translator)\n",
    "    # Use the translation table to remove punctuation\n",
    "    result_string = input_string.translate(translator)\n",
    "\n",
    "    return result_string\n",
    "\n",
    "input_text = \"Hello, world! This is an example text with punctuation.\"\n",
    "\n",
    "output_text = remove_punctuation(input_text)\n",
    "print(output_text)"
   ]
  },
  {
   "cell_type": "code",
   "execution_count": null,
   "metadata": {},
   "outputs": [],
   "source": [
    "# 38. Check if a string contains only digits.\n",
    "input_text = \"hello 31231132412341234\"\n",
    "str_check = True\n",
    "for char in input_text:\n",
    "    if not char.isdigit():\n",
    "        str_check = False\n",
    "        break\n",
    "    else:\n",
    "        continue\n",
    "print(\"String contains only digits\" if str_check else \"string contains not only digits but other characters as well\")"
   ]
  },
  {
   "cell_type": "code",
   "execution_count": null,
   "metadata": {},
   "outputs": [],
   "source": [
    "# 39. Check if a string contains only alphabets.\n",
    "input_text = \"hello\"\n",
    "str_check = True\n",
    "for char in input_text:\n",
    "    if not char.isalpha():\n",
    "        str_check = False\n",
    "        break\n",
    "    else:\n",
    "        continue\n",
    "print(\"String contains only alphabets\" if str_check else \"string contains not only alphabets but other characters as well\")"
   ]
  },
  {
   "cell_type": "code",
   "execution_count": null,
   "metadata": {},
   "outputs": [],
   "source": [
    "# 40. Convert a string to a list of characters.\n",
    "input_text = \"hello\"\n",
    "print(f\"list of characters in the string is {[char for char in input_text]}\")"
   ]
  },
  {
   "cell_type": "code",
   "execution_count": null,
   "metadata": {},
   "outputs": [],
   "source": [
    "# 41. Check if two strings are anagrams.\n",
    "str1, str2 = \"debit card\", \"bad credit\"\n",
    "anagrams_chk = True\n",
    "for item in set(str1):\n",
    "    if str1.count(item) != str2.count(item):\n",
    "        anagrams_chk = False\n",
    "        break\n",
    "if anagrams_chk:\n",
    "    print(f\"Strings '{str1}' and '{str2}' are anagrams\")\n",
    "else:\n",
    "    print(f\"Strings '{str1}' and '{str2}' are not anagrams\")"
   ]
  },
  {
   "cell_type": "code",
   "execution_count": null,
   "metadata": {},
   "outputs": [],
   "source": [
    "# 42. Encode a string using a Caesar cipher.\n",
    "def caesar_cipher_encrypt(text, shift):\n",
    "    result = \"\"\n",
    "    for char in text:\n",
    "        if char.isalpha():  # Check if the character is a letter\n",
    "            # Determine the case (uppercase or lowercase) of the character\n",
    "            if char.isupper():\n",
    "                result += chr((ord(char) + shift - ord('A')) % 26 + ord('A'))\n",
    "            else:\n",
    "                result += chr((ord(char) + shift - ord('a')) % 26 + ord('a'))\n",
    "        else:\n",
    "            result += char  # Non-alphabetic characters remain unchanged\n",
    "\n",
    "    return result\n",
    "\n",
    "\n",
    "plaintext = \"Hello, World!\"\n",
    "shift_value = 3\n",
    "\n",
    "encrypted_text = caesar_cipher_encrypt(plaintext, shift_value)\n",
    "print(\"Original:   \", plaintext)\n",
    "print(\"Encrypted:  \", encrypted_text)"
   ]
  },
  {
   "cell_type": "code",
   "execution_count": null,
   "metadata": {},
   "outputs": [],
   "source": [
    "# 43. Decode a Caesar cipher encoded string.\n",
    "def caesar_cipher_decrypt(text, shift):\n",
    "    result = \"\"\n",
    "\n",
    "    for char in text:\n",
    "        if char.isalpha():  # Check if the character is a letter\n",
    "            # Determine the case (uppercase or lowercase) of the character\n",
    "            if char.isupper():\n",
    "                result += chr((ord(char) - shift - ord('A')) % 26 + ord('A'))\n",
    "            else:\n",
    "                result += chr((ord(char) - shift - ord('a')) % 26 + ord('a'))\n",
    "        else:\n",
    "            result += char  # Non-alphabetic characters remain unchanged\n",
    "\n",
    "    return result\n",
    "\n",
    "\n",
    "encrypted_text = \"Khoor, Zruog!\"\n",
    "shift_value = 3\n",
    "decrypted_text = caesar_cipher_decrypt(encrypted_text, shift_value)\n",
    "print(\"Encrypted:  \", encrypted_text)\n",
    "print(\"Decrypted:  \", decrypted_text)"
   ]
  },
  {
   "cell_type": "code",
   "execution_count": null,
   "metadata": {},
   "outputs": [],
   "source": [
    "# 44. Find the most frequent word in a string.\n",
    "string_text = \"Hello World Hello Everyone\"\n",
    "counter = 0\n",
    "frequent_word = \"\"\n",
    "for word in string_text.split():\n",
    "    if string_text.count(word) > counter:\n",
    "        counter = string_text.count(word)\n",
    "        frequent_word = word\n",
    "print(f\"frequent word '{frequent_word}' with count {counter}\")"
   ]
  },
  {
   "cell_type": "code",
   "execution_count": null,
   "metadata": {},
   "outputs": [],
   "source": [
    "# 45. Find all unique words in a string.\n",
    "string_text = \"Hello World Hello Everyone\"\n",
    "print(f\"unique words '{set(string_text.split())}'\")"
   ]
  },
  {
   "cell_type": "code",
   "execution_count": null,
   "metadata": {},
   "outputs": [],
   "source": [
    "# 46. Count the number of syllables in a string.\n",
    "import syllables \n",
    "\n",
    "\n",
    "def count_syllables(word):\n",
    "    return syllables.estimate(word)\n",
    "\n",
    "\n",
    "def count_syllables_in_text(text):\n",
    "    words = text.split()\n",
    "    total_syllables = sum(count_syllables(word) for word in words)\n",
    "    return total_syllables\n",
    "\n",
    "\n",
    "\n",
    "text = \"Hello, how are you doing today?\"\n",
    "syllable_count = count_syllables_in_text(text)\n",
    "\n",
    "print(f\"The number of syllables in the text is: {syllable_count}\")"
   ]
  },
  {
   "cell_type": "code",
   "execution_count": null,
   "metadata": {},
   "outputs": [],
   "source": [
    "# 47. Check if a string contains any special characters.\n",
    "import re\n",
    "def contains_special_characters(input_string):\n",
    "    # Define a regular expression pattern for special characters\n",
    "    pattern = re.compile(r'[^a-zA-Z0-9\\s]')\n",
    "\n",
    "    # Check if the pattern matches any part of the input string\n",
    "    return bool(pattern.search(input_string))\n",
    "\n",
    "test_string1 = \"Hello123\"\n",
    "test_string2 = \"Hello@World!\"\n",
    "\n",
    "print(contains_special_characters(test_string1))  # Output: False\n",
    "print(contains_special_characters(test_string2))  # Output: True"
   ]
  },
  {
   "cell_type": "code",
   "execution_count": null,
   "metadata": {},
   "outputs": [],
   "source": [
    "# 48. Remove the nth word from a string.\n",
    "input_text = \"Hello how are you doing today?\"\n",
    "nth_word_position = 3\n",
    "try:\n",
    "    nth_word = input_text.split()[nth_word_position]\n",
    "    print(nth_word)\n",
    "    print(input_text.replace(nth_word, \"\"))\n",
    "\n",
    "except IndexError:\n",
    "    print(IndexError)"
   ]
  },
  {
   "cell_type": "code",
   "execution_count": null,
   "metadata": {},
   "outputs": [],
   "source": [
    "# 49. Insert a word at the nth position in a string.\n",
    "input_text = \"Hello how are  doing today?\"\n",
    "nth_word_position = 3\n",
    "nth_word = \"you\"\n",
    "try:\n",
    "    input_text1 = input_text.split()\n",
    "    input_text1.insert(nth_word_position, nth_word)\n",
    "    print(\" \".join(input_text1))\n",
    "\n",
    "except IndexError:\n",
    "    print(IndexError)"
   ]
  },
  {
   "cell_type": "code",
   "execution_count": null,
   "metadata": {},
   "outputs": [],
   "source": [
    "# 50. Convert a CSV string to a list of lists.\n",
    "csv_string = \"\"\"Name, Age, City\n",
    "John, 25, New York\n",
    "Jane, 30, London\n",
    "Bob, 22, Paris\n",
    "\"\"\"\n",
    "data_list = []\n",
    "for line in csv_string.splitlines():\n",
    "    line_data_list = [line]\n",
    "    data_list.append(line_data_list)\n",
    "print(data_list)"
   ]
  },
  {
   "cell_type": "code",
   "execution_count": null,
   "metadata": {},
   "outputs": [],
   "source": [
    "#  1. Create a list with integers from 1 to 10.\n",
    "int_list = list(range(1, 11))\n",
    "print(int_list)\n"
   ]
  },
  {
   "cell_type": "code",
   "execution_count": null,
   "metadata": {},
   "outputs": [],
   "source": [
    "\n",
    "# 2. Find the length of a list without using the `len()` function.\n",
    "list1 = [1, 2, 3, 54, 56, 57]\n",
    "counter = 0\n",
    "for item in list1:\n",
    "    counter += 1\n",
    "print(f\"total length of list is {counter}\")\n",
    "\n"
   ]
  },
  {
   "cell_type": "code",
   "execution_count": null,
   "metadata": {},
   "outputs": [],
   "source": [
    "# 3. Append an element to the end of a list.\n",
    "list1 = [1, 2, 3, 54, 56, 57]\n",
    "list1.append(4)\n",
    "print(f\"updated list {list1}\")\n"
   ]
  },
  {
   "cell_type": "code",
   "execution_count": null,
   "metadata": {},
   "outputs": [
    {
     "name": "stdout",
     "output_type": "stream",
     "text": [
      "before insert [1, 2, 3, 54, 56, 57]\n",
      "after insert [0, 1, 2, 3, 54, 56, 57]\n"
     ]
    }
   ],
   "source": [
    "\n",
    "# 4. Insert an element at a specific index in a list.\n",
    "list1 = [1, 2, 3, 54, 56, 57]\n",
    "print(f\"before insert {list1}\")\n",
    "list1.insert(0, 0)\n",
    "print(f\"after insert {list1}\")"
   ]
  },
  {
   "cell_type": "code",
   "execution_count": null,
   "metadata": {},
   "outputs": [],
   "source": [
    "# 5. Remove an element from a list by its value.\n",
    "list1 = [1, 2, 3, 54, 56, 57]\n",
    "print(f\"before removal by value {list1}\")\n",
    "list1.remove(3)\n",
    "print(f\"after removal by value {list1}\")"
   ]
  },
  {
   "cell_type": "code",
   "execution_count": null,
   "metadata": {},
   "outputs": [],
   "source": [
    "\n",
    "# 6. Remove an element from a list by its index.\n",
    "list1 = [1, 2, 3, 54, 56, 57]\n",
    "print(f\"before removal by index {list1}\")\n",
    "list1.pop(2)\n",
    "print(f\"after removal by index {list1}\")"
   ]
  },
  {
   "cell_type": "code",
   "execution_count": null,
   "metadata": {},
   "outputs": [],
   "source": [
    "# 7. Check if an element exists in a list.\n",
    "list1 = [1, 2, 3, 54, 56, 57]\n",
    "item_to_check = 31\n",
    "print(\"element is present\" if item_to_check in list1 else \"element is not present\")\n",
    "\n"
   ]
  },
  {
   "cell_type": "code",
   "execution_count": null,
   "metadata": {},
   "outputs": [],
   "source": [
    "# 8. Find the index of the first occurrence of an element in a list.\n",
    "list1 = [1, 2, 3, 54, 56, 57, 1]\n",
    "item_to_check = 3\n",
    "index = None\n",
    "counter = -1\n",
    "for item in list1:\n",
    "    counter += 1\n",
    "    if item_to_check == item:\n",
    "        index = counter\n",
    "        break\n",
    "print(f\"{item_to_check} is present at index {index}\")\n"
   ]
  },
  {
   "cell_type": "code",
   "execution_count": null,
   "metadata": {},
   "outputs": [],
   "source": [
    "\n",
    "# 9. Count the occurrences of an element in a list.\n",
    "list1 = [1, 2, 3, 54, 56, 57, 1]\n",
    "item_to_check = 1\n",
    "counter = 0\n",
    "for item in list1:\n",
    "    if item_to_check == item:\n",
    "        counter += 1\n",
    "print(f\"{item_to_check} is present {counter} number of times in {list1}\")\n"
   ]
  },
  {
   "cell_type": "code",
   "execution_count": null,
   "metadata": {},
   "outputs": [],
   "source": [
    "# 10. Reverse the order of elements in a list.\n",
    "list1 = [1, 2, 3, 54, 56, 57]\n",
    "print(f\"reverse of {list1} is {list1[::-1]}\")\n"
   ]
  },
  {
   "cell_type": "code",
   "execution_count": null,
   "metadata": {},
   "outputs": [],
   "source": [
    "# 11. Sort a list in ascending order.\n",
    "list1 = [54, 56, 57, 1, 2, 3]\n",
    "print(f\"original list {list1}\")\n",
    "list1.sort(key=None)\n",
    "print(f\"Sorted list in ascending order {list1}\")\n"
   ]
  },
  {
   "cell_type": "code",
   "execution_count": null,
   "metadata": {},
   "outputs": [],
   "source": [
    "\n",
    "# 12. Sort a list in descending order.\n",
    "list1 = [1, 2, 3, 54, 56, 57]\n",
    "print(f\"original list {list1}\")\n",
    "list1.sort(key=None, reverse=True)\n",
    "print(f\"Sorted list in descending order {list1}\")\n"
   ]
  },
  {
   "cell_type": "code",
   "execution_count": null,
   "metadata": {},
   "outputs": [],
   "source": [
    "\n",
    "# 13. Create a list of even numbers from 1 to 20.\n",
    "list1 = [item for item in range(1, 21) if item % 2 == 0]\n",
    "print(f\"even numbers from 1 to 20 list {list1}\")\n"
   ]
  },
  {
   "cell_type": "code",
   "execution_count": null,
   "metadata": {},
   "outputs": [],
   "source": [
    "\n",
    "# 14. Create a list of odd numbers from 1 to 20.\n",
    "list1 = [item for item in range(1, 21) if item % 2 != 0]\n",
    "print(f\"odd numbers from 1 to 20 list {list1}\")\n"
   ]
  },
  {
   "cell_type": "code",
   "execution_count": null,
   "metadata": {},
   "outputs": [],
   "source": [
    "\n",
    "# 15. Find the sum of all elements in a list.\n",
    "list1 = [1, 2, 3, 5, 6, 7]\n",
    "print(sum(list1))\n"
   ]
  },
  {
   "cell_type": "code",
   "execution_count": null,
   "metadata": {},
   "outputs": [],
   "source": [
    "\n",
    "# 16. Find the maximum value in a list.\n",
    "list1 = [1, 2, 3, 5, 6, 7]\n",
    "print(max(list1))\n"
   ]
  },
  {
   "cell_type": "code",
   "execution_count": null,
   "metadata": {},
   "outputs": [],
   "source": [
    "\n",
    "# 17. Find the minimum value in a list.\n",
    "list1 = [1, 2, 3, 5, 6, 7]\n",
    "print(min(list1))\n"
   ]
  },
  {
   "cell_type": "code",
   "execution_count": null,
   "metadata": {},
   "outputs": [],
   "source": [
    "\n",
    "# 18. Create a list of squares of numbers from 1 to 10.\n",
    "list1 = [num ** 2 for num in range(1, 11)]\n",
    "print(list1)\n",
    "\n"
   ]
  },
  {
   "cell_type": "code",
   "execution_count": null,
   "metadata": {},
   "outputs": [],
   "source": [
    "# 19. Create a list of random numbers.\n",
    "import random\n",
    "random_numbers = [random.randint(1, 100) for _ in range(10)]\n",
    "print(random_numbers)\n",
    "\n"
   ]
  },
  {
   "cell_type": "code",
   "execution_count": null,
   "metadata": {},
   "outputs": [],
   "source": [
    "# 20. Remove duplicates from a list.\n",
    "list1 = [1, 2, 3, 54, 56, 57, 1]\n",
    "print(f\"unique item list {set(list1)}\")\n",
    "\n"
   ]
  },
  {
   "cell_type": "code",
   "execution_count": null,
   "metadata": {},
   "outputs": [],
   "source": [
    "# 21. Find the common elements between two lists.\n",
    "list1 = [1, 2, 3, 54, 56, 57, 1]\n",
    "list2 = [54, 56, 57, 1]\n",
    "common_list = set([item for item in list1 if item in list2])\n",
    "print(f\"common item list {common_list}\")\n",
    "\n"
   ]
  },
  {
   "cell_type": "code",
   "execution_count": null,
   "metadata": {},
   "outputs": [],
   "source": [
    "# 22. Find the difference between two lists.\n",
    "list1 = [1, 2, 3, 54, 56, 57, 1]\n",
    "list2 = [54, 56, 57, 1]\n",
    "difference_list = set([item for item in list1 if item not in list2])\n",
    "print(f\"common item list {difference_list}\")"
   ]
  },
  {
   "cell_type": "code",
   "execution_count": null,
   "metadata": {},
   "outputs": [],
   "source": [
    "# 23. Merge two lists.\n",
    "list1 = [1, 2, 3, 54, 56, 57, 1]\n",
    "list2 = [64, 66, 67, 61]\n",
    "list1.extend(list2)\n",
    "print(f\"common item  list {list1}\")"
   ]
  },
  {
   "cell_type": "code",
   "execution_count": null,
   "metadata": {},
   "outputs": [],
   "source": [
    "#  24. Multiply all elements in a list by 2.\n",
    "list1 = [1, 2, 3, 5, 6, 7]\n",
    "updated_list = [item*2 for item in list1]\n",
    "print(updated_list)"
   ]
  },
  {
   "cell_type": "code",
   "execution_count": null,
   "metadata": {},
   "outputs": [],
   "source": [
    "# 25. Filter out all even numbers from a list.\n",
    "list1 = [1, 2, 3, 5, 6, 7]\n",
    "even_item_list = [item for item in list1 if item % 2 == 0]\n",
    "print(even_item_list)"
   ]
  },
  {
   "cell_type": "code",
   "execution_count": null,
   "metadata": {},
   "outputs": [],
   "source": [
    "# 26. Convert a list of strings to a list of integers.\n",
    "list_of_string = ['1', '2', '3', '5', '6', '7', 'a']\n",
    "list_of_int = [int(item) for item in list_of_string if item.isdigit()]\n",
    "print(f\"final list is{list_of_int}\")"
   ]
  },
  {
   "cell_type": "code",
   "execution_count": null,
   "metadata": {},
   "outputs": [],
   "source": [
    "# 27. Convert a list of integers to a list of strings.\n",
    "list_of_int = [1, 2, 3, 5, 6, 7]\n",
    "list_of_string = [str(item) for item in list_of_int]\n",
    "print(f\"final list is{list_of_string}\")"
   ]
  },
  {
   "cell_type": "code",
   "execution_count": null,
   "metadata": {},
   "outputs": [],
   "source": [
    "# 28. Flatten a nested list.\n",
    "nested_list = [['1', '2', '3', '5', '6', '7'], ['a', 'b', 'c', 'd', 'e', 'f', 'g', 'h', 'i']]\n",
    "flatten_list = [item for sub_list in nested_list for item in sub_list]\n",
    "for sub_list in nested_list:\n",
    "    for item in sub_list:\n",
    "        flatten_list.append(item)\n",
    "print(flatten_list)"
   ]
  },
  {
   "cell_type": "code",
   "execution_count": null,
   "metadata": {},
   "outputs": [],
   "source": [
    "# 29. Create a list of the first 10 Fibonacci numbers.\n",
    "fibonacci_numbers = [0, 1]\n",
    "for _ in range(2, 11):\n",
    "    next_num = fibonacci_numbers[-1] + fibonacci_numbers[-2]\n",
    "    fibonacci_numbers.append(next_num)\n",
    "print(fibonacci_numbers)"
   ]
  },
  {
   "cell_type": "code",
   "execution_count": null,
   "metadata": {},
   "outputs": [],
   "source": [
    "# 30. Check if a list is sorted.\n",
    "def is_sorted(lst):\n",
    "    return all(lst[i] <= lst[i + 1] for i in range(len(lst) - 1))\n",
    "\n",
    "sorted_list = [1, 2, 3, 4, 5]\n",
    "unsorted_list = [3, 1, 4, 1, 5, 9, 2, 6]\n",
    "\n",
    "print(is_sorted(sorted_list))\n",
    "print(is_sorted(unsorted_list))"
   ]
  },
  {
   "cell_type": "code",
   "execution_count": null,
   "metadata": {},
   "outputs": [],
   "source": [
    "# 31. Rotate a list to the left by `n` positions.\n",
    "def rotate_left(lst, n):\n",
    "    n = n % len(lst)  # Ensure n is within the length of the list\n",
    "    return lst[n:] + lst[:n]\n",
    "\n",
    "# Example usage\n",
    "my_list = [1, 2, 3, 4, 5]\n",
    "\n",
    "rotated_list = rotate_left(my_list, 2)\n",
    "print(rotated_list)"
   ]
  },
  {
   "cell_type": "code",
   "execution_count": null,
   "metadata": {},
   "outputs": [],
   "source": [
    "# 32. Rotate a list to the right by `n` positions.\n",
    "def rotate_right(lst, n):\n",
    "    n = n % len(lst)  # Ensure n is within the length of the list\n",
    "    return lst[-n:] + lst[:-n]\n",
    "\n",
    "# Example usage\n",
    "my_list = [1, 2, 3, 4, 5]\n",
    "\n",
    "rotated_list = rotate_right(my_list, 2)\n",
    "print(rotated_list)\n"
   ]
  },
  {
   "cell_type": "code",
   "execution_count": null,
   "metadata": {},
   "outputs": [],
   "source": [
    "# 33. Create a list of prime numbers up to 50.\n",
    "def is_prime(num):\n",
    "    if num < 2:\n",
    "        return False\n",
    "    for i in range(2, int(num**0.5) + 1):\n",
    "        if num % i == 0:\n",
    "            return False\n",
    "    return True\n",
    "\n",
    "# Generate a list of prime numbers up to 50\n",
    "prime_numbers = [num for num in range(2, 51) if is_prime(num)]\n",
    "print(prime_numbers)"
   ]
  },
  {
   "cell_type": "code",
   "execution_count": null,
   "metadata": {},
   "outputs": [],
   "source": [
    "# 34. Split a list into chunks of size `n`.\n",
    "def chunk_list(input_list, chunk_size):\n",
    "    return [input_list[i:i + chunk_size] for i in range(0, len(input_list), chunk_size)]\n",
    "    # chunked_list = []\n",
    "    # for i in range(0, len(input_list), chunk_size):\n",
    "    #     chunked_list.append(input_list[i:i + chunk_size])\n",
    "    # return  chunked_list\n",
    "my_list = [1, 2, 3, 4, 5, 6, 7, 8, 9, 10]\n",
    "chunked_list = chunk_list(my_list, 3)\n",
    "print(chunked_list)"
   ]
  },
  {
   "cell_type": "code",
   "execution_count": null,
   "metadata": {},
   "outputs": [],
   "source": [
    "# 35. Find the second-largest number in a list.\n",
    "my_list = [1, 2, 3, 4, 5, 6, 7, 8, 9, 10]\n",
    "# removing the max and then calculating max\n",
    "my_list.remove(max(my_list))\n",
    "print(max(my_list))"
   ]
  },
  {
   "cell_type": "code",
   "execution_count": null,
   "metadata": {},
   "outputs": [],
   "source": [
    "# 36. Replace every element in a list with its square.\n",
    "my_list = [1, 2, 3, 4, 5, 6, 7, 8, 9, 10]\n",
    "# for x in range(0, len(my_list)):\n",
    "#     my_list[x] = my_list[x]**2\n",
    "print(my_list)\n",
    "my_list = [my_list[x]**2 for x in range(0, len(my_list))]\n",
    "print(my_list)\n"
   ]
  },
  {
   "cell_type": "code",
   "execution_count": null,
   "metadata": {},
   "outputs": [],
   "source": [
    "# 37. Convert a list to a dictionary where list elements become keys and their indices become values.\n",
    "my_list = [1, 2, 3, 4, 5, 6, 7, 8, 9, 10]\n",
    "result_disc = {}\n",
    "for index in range(0, len(my_list)):\n",
    "    result_disc.update({my_list[index]: index})\n",
    "print(result_disc)\n"
   ]
  },
  {
   "cell_type": "code",
   "execution_count": null,
   "metadata": {},
   "outputs": [],
   "source": [
    "# 38. Shuffle the elements of a list randomly.\n",
    "import random\n",
    "my_list = [1, 2, 3, 4, 5, 6, 7, 8, 9, 10]\n",
    "random.shuffle(my_list)\n",
    "print(my_list)\n"
   ]
  },
  {
   "cell_type": "code",
   "execution_count": null,
   "metadata": {},
   "outputs": [],
   "source": [
    "# 39. Create a list of the first 10 factorial numbers.\n",
    "def factorial(num):\n",
    "    if num == 0 or num == 1:\n",
    "        return 1\n",
    "    else:\n",
    "        return num * factorial(num - 1)\n",
    "\n",
    "# Generate a list of the first 10 factorial numbers\n",
    "factorial_numbers = [factorial(i) for i in range(10)]\n",
    "\n",
    "print(factorial_numbers)"
   ]
  },
  {
   "cell_type": "code",
   "execution_count": null,
   "metadata": {},
   "outputs": [],
   "source": [
    "# 40. Check if two lists have at least one element in common.\n",
    "def check_common_element(lst1, lst2):\n",
    "    common_list = [item for item in lst1 if item in lst2]\n",
    "    return True if len(common_list) > 0 else False\n",
    "\n",
    "list1 = [1, 2, 3, 54, 56, 57, 1]\n",
    "list2 = [33, 1]\n",
    "\n",
    "print(check_common_element(list1, list2))"
   ]
  },
  {
   "cell_type": "code",
   "execution_count": null,
   "metadata": {},
   "outputs": [],
   "source": [
    "# 41. Remove all elements from a list.\n",
    "list1 = [1, 2, 3, 54, 56, 57, 1]\n",
    "print(f\"before clearing {list1}\")\n",
    "list1.clear()\n",
    "print(f\"after clearing {list1}\")"
   ]
  },
  {
   "cell_type": "code",
   "execution_count": null,
   "metadata": {},
   "outputs": [],
   "source": [
    "# 42. Replace negative numbers in a list with 0.\n",
    "list1 = [1, 2, 3, 54, 56, 57, 1, -3]\n",
    "print(f\"before replacing {list1}\")\n",
    "list1 = [num if num == abs(num) else 0 for num in list1]\n",
    "print(f\"after replacing {list1}\")"
   ]
  },
  {
   "cell_type": "code",
   "execution_count": null,
   "metadata": {},
   "outputs": [],
   "source": [
    "# 43. Convert a string into a list of words.\n",
    "string = \"Convert a string into a list of words\"\n",
    "print(string)\n",
    "print(string.split())"
   ]
  },
  {
   "cell_type": "code",
   "execution_count": null,
   "metadata": {},
   "outputs": [],
   "source": [
    "# 44. Convert a list of words into a string.\n",
    "list_of_words = ['Convert', 'a', 'string', 'into', 'a', 'list', 'of', 'words']\n",
    "string = \" \".join(list_of_words)\n",
    "print(string)"
   ]
  },
  {
   "cell_type": "code",
   "execution_count": null,
   "metadata": {},
   "outputs": [],
   "source": [
    "# 45. Create a list of the first `n` powers of 2.\n",
    "my_list = [2 ** num for num in range(1, 11)]\n",
    "print(my_list)"
   ]
  },
  {
   "cell_type": "code",
   "execution_count": null,
   "metadata": {},
   "outputs": [],
   "source": [
    "# 46. Find the longest string in a list of strings.\n",
    "string_list = [\"apple\", \"banana\", \"kiwi\", \"strawberry\", \"orange\"]\n",
    "longest_string = max(string_list, key=len)\n",
    "print(\"Longest string:\", longest_string)"
   ]
  },
  {
   "cell_type": "code",
   "execution_count": null,
   "metadata": {},
   "outputs": [],
   "source": [
    "# 47. Find the shortest string in a list of strings.\n",
    "string_list = [\"apple\", \"banana\", \"kiwi\", \"strawberry\", \"orange\"]\n",
    "shortest_string = min(string_list, key=len)\n",
    "print(\"Shortest string:\", shortest_string)"
   ]
  },
  {
   "cell_type": "code",
   "execution_count": null,
   "metadata": {},
   "outputs": [],
   "source": [
    "# 48. Create a list of the first `n` triangular numbers.\n",
    "n = 10\n",
    "triangular_numbers = [i * (i + 1) // 2 for i in range(1, n + 1)]\n",
    "print(triangular_numbers)"
   ]
  },
  {
   "cell_type": "code",
   "execution_count": null,
   "metadata": {},
   "outputs": [],
   "source": [
    "# 49. Check if a list contains another list as a subsequence.\n",
    "def is_subsequence(sublist, mainlist):\n",
    "    sub_len = len(sublist)\n",
    "    temp_list = [x for x in mainlist if x in sublist]\n",
    "    return len(temp_list) == sub_len\n",
    "\n",
    "main_list = [1, 2, 3, 4, 5, 6, 7, 8, 9, 10]\n",
    "sub_list = [3, 5, 7, 61]\n",
    "\n",
    "result = is_subsequence(sub_list, main_list)\n",
    "\n",
    "print(result)"
   ]
  },
  {
   "cell_type": "code",
   "execution_count": null,
   "metadata": {},
   "outputs": [],
   "source": [
    "# 50. Swap two elements in a list by their indices.\n",
    "def swap_elements(lst, index1, index2):\n",
    "    lst[index1], lst[index2] = lst[index2], lst[index1]\n",
    "\n",
    "my_list = [1, 2, 3, 4, 5]\n",
    "print(f\"before swapping {my_list}\")\n",
    "# Swap elements at indices 1 and 3\n",
    "index1, index2 = 1, 3\n",
    "swap_elements(my_list, index1, index2)\n",
    "\n",
    "print(f\"after swapping of index {index1} and {index2} {my_list}\")"
   ]
  }
 ],
 "metadata": {
  "kernelspec": {
   "display_name": "Python 3",
   "language": "python",
   "name": "python3"
  },
  "language_info": {
   "codemirror_mode": {
    "name": "ipython",
    "version": 3
   },
   "file_extension": ".py",
   "mimetype": "text/x-python",
   "name": "python",
   "nbconvert_exporter": "python",
   "pygments_lexer": "ipython3",
   "version": "3.11.6"
  }
 },
 "nbformat": 4,
 "nbformat_minor": 2
}
