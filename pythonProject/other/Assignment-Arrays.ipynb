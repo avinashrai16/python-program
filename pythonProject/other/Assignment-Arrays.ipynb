{
 "cells": [
  {
   "cell_type": "code",
   "execution_count": null,
   "metadata": {},
   "outputs": [],
   "source": [
    "# 1. Given an array, check if it contains any duplicates or not.\n",
    "def duplicate_check(array):\n",
    "    if len(arr) == len(set(arr)):\n",
    "        #print(\"array does not have duplicate items\")\n",
    "        return False\n",
    "    else:\n",
    "        #print(\"array does have duplicate items\")\n",
    "        return True\n",
    "arr = [1, 2, 4, 2, 5, 9]\n",
    "print(duplicate_check(arr))"
   ]
  },
  {
   "cell_type": "code",
   "execution_count": null,
   "metadata": {},
   "outputs": [],
   "source": [
    "# 2. Given an array and an integer k, rotate the array to the right by k steps.\n",
    "arr = [1, 2, 3, 4, 5, 6, 7]\n",
    "k = 3\n",
    "output = arr[-k:]+arr[:-k]\n",
    "print(output)"
   ]
  },
  {
   "cell_type": "code",
   "execution_count": null,
   "metadata": {},
   "outputs": [],
   "source": [
    "# 3. Reverse the given array in-place, means without using any extra data structure.\n",
    "arr = [2, 4, 5, 7, 9, 12]\n",
    "print(arr)\n",
    "print(f\"memory address before reverse:{id(arr)}\")\n",
    "arr.reverse()\n",
    "print(arr)\n",
    "print(f\"memory address after reverse:{id(arr)}\")"
   ]
  },
  {
   "cell_type": "code",
   "execution_count": null,
   "metadata": {},
   "outputs": [],
   "source": [
    "# 4. Given an array of integers, find the maximum element in an array\n",
    "arr = [10, 5, 20, 8, 15]\n",
    "output = max(arr)\n",
    "print(f\"max element is the list {arr} is {output}\")"
   ]
  },
  {
   "cell_type": "code",
   "execution_count": null,
   "metadata": {},
   "outputs": [],
   "source": [
    "# 5. Given a sorted array, remove the duplicate element without using any extra data structure.\n",
    "def remove_duplicates(arr):\n",
    "    print(\"memory address in function\", id(arr))\n",
    "    if not arr:\n",
    "        return 0\n",
    "    unique_item = \"\"\n",
    "    for i in arr[::]:\n",
    "        if i == unique_item:\n",
    "            arr.remove(i)\n",
    "        else:\n",
    "            unique_item = i\n",
    "    return arr\n",
    "\n",
    "arr = [1, 1, 2, 2, 2, 3, 3, 4, 4, 4, 5, 5]\n",
    "print(\"memory address at start \", id(arr))\n",
    "print(\"Array with duplicates:\", arr)\n",
    "arr = remove_duplicates(arr)\n",
    "print(\"memory address at end \", id(arr))\n",
    "print(\"Array with duplicates removed:\", arr)"
   ]
  }
 ],
 "metadata": {
  "kernelspec": {
   "display_name": "Python 3",
   "language": "python",
   "name": "python3"
  },
  "language_info": {
   "codemirror_mode": {
    "name": "ipython",
    "version": 3
   },
   "file_extension": ".py",
   "mimetype": "text/x-python",
   "name": "python",
   "nbconvert_exporter": "python",
   "pygments_lexer": "ipython3",
   "version": "3.11.6"
  }
 },
 "nbformat": 4,
 "nbformat_minor": 2
}
