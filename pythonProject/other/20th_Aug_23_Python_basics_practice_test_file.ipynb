{
 "cells": [
  {
   "cell_type": "markdown",
   "metadata": {},
   "source": [
    "String Based Assignment Problem"
   ]
  },
  {
   "cell_type": "code",
   "execution_count": null,
   "metadata": {},
   "outputs": [],
   "source": [
    "# 1.Write a program to reverse a string.\n",
    "input_str = input(\"give me a string to reverse\")\n",
    "print(f\"the given string is {input_str}\")\n",
    "print(f\"the reverse of the string is {input_str[::-1]}\")"
   ]
  },
  {
   "cell_type": "code",
   "execution_count": null,
   "metadata": {},
   "outputs": [],
   "source": [
    "# 2. Check if a string is a palindrome.\n",
    "input_str = input(\"give me a string to check palindrome\")\n",
    "print(\"the given string is palindrome\" if input_str == input_str[::-1] else \"the given string is not palindrome\")"
   ]
  },
  {
   "cell_type": "code",
   "execution_count": null,
   "metadata": {},
   "outputs": [],
   "source": [
    "# 3. Convert a string to uppercase.\n",
    "input_str = input(\"give me a string to convert it into uppercase\")\n",
    "print(f\"the given string is {input_str}\")\n",
    "print(f\"the uppercase of the string is {input_str.upper()}\")"
   ]
  },
  {
   "cell_type": "code",
   "execution_count": null,
   "metadata": {},
   "outputs": [],
   "source": [
    "# 4. Convert a string to lowercase.\n",
    "input_str = input(\"give me a string to convert it into lowercase\")\n",
    "print(f\"the given string is {input_str}\")\n",
    "print(f\"the lowercase of the string is {input_str.lower()}\")"
   ]
  },
  {
   "cell_type": "code",
   "execution_count": null,
   "metadata": {},
   "outputs": [],
   "source": [
    "# 5. Count the number of vowels in a string.\n",
    "input_str = input(\"give me a string to count the number of vowels\")\n",
    "vowel_str = \"aeiouAEIOU\"\n",
    "print(f\"the given string is {input_str}\")\n",
    "vowel_count = len([x for x in input_str if x in vowel_str])\n",
    "print(f\" the given string {input_str} has {vowel_count} vowel\")"
   ]
  },
  {
   "cell_type": "code",
   "execution_count": null,
   "metadata": {},
   "outputs": [],
   "source": [
    "# 6 . Count the number of consonants in a string.\n",
    "input_str = input(\"give me a string to count the number of vowels\")\n",
    "vowel_str = \"aeiouAEIOU\"\n",
    "print(f\"the given string is {input_str}\")\n",
    "consonant_count = len([x for x in input_str if x not in vowel_str])\n",
    "print(f\" the given string {input_str} has {consonant_count} consonant\")"
   ]
  },
  {
   "cell_type": "code",
   "execution_count": null,
   "metadata": {},
   "outputs": [],
   "source": [
    "# 7 . Remove all whitespaces from a string.\n",
    "input_str = input(\"give me a string with some whitespace\")\n",
    "print(f\"the given string is {input_str}\")\n",
    "trimmed_str = \"\".join([x for x in input_str if x != \" \"])\n",
    "print(f\"the trimmed string is:{trimmed_str}\")"
   ]
  },
  {
   "cell_type": "code",
   "execution_count": null,
   "metadata": {},
   "outputs": [],
   "source": [
    "# 8. Find the length of a string without using the `len()` function.\n",
    "input_str = input(\"give me a string for calculating it's length\")\n",
    "print(f\"the given string is {input_str}\")\n",
    "char_counter = 0\n",
    "for char in input_str:\n",
    "    char_counter = char_counter+1\n",
    "print(f\"length of the given string is :{char_counter}\")"
   ]
  },
  {
   "cell_type": "code",
   "execution_count": null,
   "metadata": {},
   "outputs": [],
   "source": [
    "# 9. Check if a string contains a specific word.\n",
    "input_str = \"sample string to check for a word\"\n",
    "input_word = input(f\"give me a word from string '{input_str}'\")\n",
    "print(\"given matching word :\", input_word)\n",
    "print(\"Matching word found\" if len([word for word in input_str.split() if input_word == word]) > 0 else \"Matching word not found\")"
   ]
  },
  {
   "cell_type": "code",
   "execution_count": null,
   "metadata": {},
   "outputs": [],
   "source": [
    "# 10 . Replace a word in a string with another word.\n",
    "input_str = \"sample string to check for a word\"\n",
    "input_match_word = input(f\"give me a word from string '{input_str}' to match \").strip()\n",
    "input_replace_word = input(f\"give me a word, with which matching word need to be replaced\").strip()\n",
    "filtered_str = \" \".join([word if input_match_word != word else input_replace_word for word in input_str.split()])\n",
    "print(filtered_str)"
   ]
  },
  {
   "cell_type": "code",
   "execution_count": null,
   "metadata": {},
   "outputs": [],
   "source": [
    "# 11. Count the occurrences of a word in a string.\n",
    "input_str = \"sample string to check for a word\"\n",
    "input_match_word = input(f\"give me a word from string '{input_str}' to match \").strip()\n",
    "print(f\"given word '{input_match_word}' is present {len([word for word in input_str.split() if input_match_word == word])} times in '{input_str}'\")"
   ]
  },
  {
   "cell_type": "code",
   "execution_count": null,
   "metadata": {},
   "outputs": [],
   "source": [
    "# 12. Find the first occurrence of a word in a string.\n",
    "input_str = \"sample string to check for a word\"\n",
    "input_match_word = input(f\"give me a word from string '{input_str}' to find the first occurrence \").strip()\n",
    "print(f\"first occurrence of {input_match_word} is at {input_str.find(input_match_word)}\")"
   ]
  },
  {
   "cell_type": "code",
   "execution_count": null,
   "metadata": {},
   "outputs": [],
   "source": [
    "# 13. Find the last occurrence of a word in a string.\n",
    "input_str = \"sample string to check for a word.sample string to check for a word\"\n",
    "input_match_word = input(f\"give me a word from string '{input_str}' to find the last occurrence \").strip()\n",
    "print(f\"last occurrence of {input_match_word} is at {input_str.rfind(input_match_word)}\")"
   ]
  },
  {
   "cell_type": "code",
   "execution_count": null,
   "metadata": {},
   "outputs": [],
   "source": [
    "# 14. Split a string into a list of words.\n",
    "input_str = \"sample string to check for a word.\"\n",
    "print(f\"words present in the string '{input_str}' are {input_str.split()}\")"
   ]
  },
  {
   "cell_type": "code",
   "execution_count": null,
   "metadata": {},
   "outputs": [],
   "source": [
    "# 15. Join a list of words into a string.\n",
    "list_of_word = ['sample', 'string', 'to', 'check', 'for', 'a', 'word.']\n",
    "created_str = \" \".join(list_of_word)\n",
    "print(\"list of words \", list_of_word)\n",
    "print(\"created string\", created_str)"
   ]
  },
  {
   "cell_type": "code",
   "execution_count": null,
   "metadata": {},
   "outputs": [],
   "source": [
    "# 16. Convert a string where words are separated by spaces to one where words are separated by underscores.\n",
    "input_str = \"sample string to check for a word.sample string to check for a word\"\n",
    "updated_str = input_str.replace(\" \", \"#\")\n",
    "print(updated_str)"
   ]
  },
  {
   "cell_type": "code",
   "execution_count": null,
   "metadata": {},
   "outputs": [],
   "source": [
    "# 17. Check if a string starts with a specific word or phrase.\n",
    "input_str = \"for a word. sample string to check for a word\"\n",
    "print(input_str.startswith(\"sample string to check\"))"
   ]
  },
  {
   "cell_type": "code",
   "execution_count": null,
   "metadata": {},
   "outputs": [],
   "source": [
    "# 18. Check if a string ends with a specific word or phrase.\n",
    "input_str = \"Test for a word. Sample string to check for a word\"\n",
    "print(input_str.endswith(\"for a word\"))"
   ]
  },
  {
   "cell_type": "code",
   "execution_count": null,
   "metadata": {},
   "outputs": [],
   "source": [
    "# 19. Convert a string to title case (e.g., \"hello world\" to \"Hello World\").\n",
    "input_str = \"hello world\"\n",
    "print(input_str.title())"
   ]
  },
  {
   "cell_type": "code",
   "execution_count": null,
   "metadata": {},
   "outputs": [],
   "source": [
    "# 20. Find the longest word in a string.\n",
    "input_str = \"Sample string to check for a\"\n",
    "print(f\"longest word is {max(input_str.split(), key=len)}\")"
   ]
  },
  {
   "cell_type": "code",
   "execution_count": null,
   "metadata": {},
   "outputs": [],
   "source": [
    "# 21. Find the shortest word in a string.\n",
    "input_str = \"Sample string to check for a\"\n",
    "print(f\"longest word is {min(input_str.split(), key=len)}\")"
   ]
  },
  {
   "cell_type": "code",
   "execution_count": null,
   "metadata": {},
   "outputs": [],
   "source": [
    "# 22. Reverse the order of words in a string.\n",
    "input_str = \"Sample string to check for a\"\n",
    "updated_str = \" \".join(input_str.split()[::-1])\n",
    "print(updated_str)"
   ]
  },
  {
   "cell_type": "code",
   "execution_count": null,
   "metadata": {},
   "outputs": [],
   "source": [
    "# 23 .Check if a string is alphanumeric.\n",
    "input_str = \"Sample string\"\n",
    "print(f\"is given string is alphanumeric ? {input_str.isalnum()}\")"
   ]
  },
  {
   "cell_type": "code",
   "execution_count": null,
   "metadata": {},
   "outputs": [],
   "source": [
    "# 24. Extract all digits from a string.\n",
    "input_str = \"Sample333 string13123\"\n",
    "digit_list = [digit for digit in input_str if digit.isnumeric()]\n",
    "print(f\"digit list  in '{input_str}' is {digit_list}\")"
   ]
  },
  {
   "cell_type": "code",
   "execution_count": null,
   "metadata": {},
   "outputs": [],
   "source": [
    "\n",
    "# 25. Extract all alphabets from a string.\n",
    "input_str = \"Sample333 string13123\"\n",
    "alphabets_list = [alphabet for alphabet in input_str if alphabet.isalpha()]\n",
    "print(f\"digit list  in '{input_str}' is {alphabets_list}\")"
   ]
  },
  {
   "cell_type": "code",
   "execution_count": null,
   "metadata": {},
   "outputs": [],
   "source": [
    "# 26. Count the number of uppercase letters in a string.\n",
    "input_str = \"Sample333 string13123\"\n",
    "uppercase_list = [alphabet for alphabet in input_str if alphabet.isupper()]\n",
    "print(f\"digit list  in '{input_str}' is {uppercase_list}\")"
   ]
  },
  {
   "cell_type": "code",
   "execution_count": null,
   "metadata": {},
   "outputs": [],
   "source": [
    "# 27 . Count the number of lowercase letters in a string.\n",
    "input_str = \"Sample333 string13123\"\n",
    "lowercase_list = [alphabet for alphabet in input_str if alphabet.islower()]\n",
    "print(f\"digit list  in '{input_str}' is {lowercase_list}\")"
   ]
  },
  {
   "cell_type": "code",
   "execution_count": null,
   "metadata": {},
   "outputs": [],
   "source": [
    "# 28 . Swap the case of each character in a string.\n",
    "input_str = \"Sample333 string13123\"\n",
    "swap_case_str = \"\".join([alphabet.upper() if alphabet.islower() else alphabet.lower() for alphabet in input_str])\n",
    "print(f\"Swap case string for input string '{input_str}' is {swap_case_str}\")"
   ]
  },
  {
   "cell_type": "code",
   "execution_count": null,
   "metadata": {},
   "outputs": [],
   "source": [
    "# 29. Remove a specific word from a string.\n",
    "input_str = \"sample string to check for a word.\"\n",
    "word_to_remove = \"check\"\n",
    "updated_str = \" \".join([word for word in input_str.split() if word != word_to_remove])\n",
    "print(f\"updated string is {updated_str}\")"
   ]
  },
  {
   "cell_type": "code",
   "execution_count": null,
   "metadata": {},
   "outputs": [],
   "source": [
    "# 30. Check if a string is a valid email address.\n",
    "input_email_id = \"testte@st..com\"\n",
    "# simple validation if given email has @ .\n",
    "email_id_rule1 = \"@.\"\n",
    "email_id_rule2 = \".\"\n",
    "print(\"email id is valid \"\n",
    "      if len([x for x in input_email_id if x in email_id_rule1]) > 0 + len([x for x in input_email_id if x in email_id_rule2]) > 0\n",
    "      else \"email not valid\")"
   ]
  },
  {
   "cell_type": "code",
   "execution_count": null,
   "metadata": {},
   "outputs": [],
   "source": [
    "# 31. Extract the username from an email address string.\n",
    "input_email_id = \"test@test.com\"\n",
    "print(f\" the user name is '{input_email_id.split('@')[0]}' in the email id '{input_email_id}'\")"
   ]
  },
  {
   "cell_type": "code",
   "execution_count": null,
   "metadata": {},
   "outputs": [],
   "source": [
    "# 32 .Extract the domain name from an email address string.\n",
    "input_email_id = \"test@test.com\"\n",
    "print(f\" the domain name is '{input_email_id.split('@')[1]}' in the email id '{input_email_id}'\")"
   ]
  },
  {
   "cell_type": "code",
   "execution_count": null,
   "metadata": {},
   "outputs": [],
   "source": [
    "# 33. Replace multiple spaces in a string with a single space.\n",
    "input_string_with_space = \"test  string  with  double   or    triple  or more than    that    spaces as   well    between  words\"\n",
    "print(f\"update string '{' '.join(input_string_with_space.split())}' \")  # join the words with single space between words"
   ]
  },
  {
   "cell_type": "code",
   "execution_count": null,
   "metadata": {},
   "outputs": [],
   "source": [
    "#  34. Check if a string is a valid URL.\n",
    "from urllib.parse import urlparse\n",
    "\n",
    "\n",
    "def is_valid_url(url):\n",
    "    try:\n",
    "        result = urlparse(url)\n",
    "        # print(result)\n",
    "        return all([result.scheme, result.netloc])\n",
    "    except ValueError:\n",
    "        return False\n",
    "\n",
    "\n",
    "url1 = \"https://www.example.com\"\n",
    "url2 = \"not_a_valid_url\"\n",
    "\n",
    "print(is_valid_url(url1))  # Output: True\n",
    "print(is_valid_url(url2))  # Output: False"
   ]
  },
  {
   "cell_type": "code",
   "execution_count": null,
   "metadata": {},
   "outputs": [],
   "source": [
    "# 35. Extract the protocol (http or https) from a URL string.\n",
    "url_string = \"https://learn.pwskills.com/\"\n",
    "print(f\" the protocol is '{url_string.split(':')[0]}' as per the given URL'{url_string}'\")"
   ]
  },
  {
   "cell_type": "code",
   "execution_count": null,
   "metadata": {},
   "outputs": [],
   "source": [
    "# 36. Find the frequency of each character in a string.\n",
    "string_input = \"Find the frequency of each character in a string\"\n",
    "char_dic = {}\n",
    "for char in string_input.lower():  # making string case-insensitive\n",
    "    if char in list(char_dic.keys()):\n",
    "        char_dic.update({char: char_dic.get(char) + 1})\n",
    "    else:\n",
    "        char_dic.update({char: 1})\n",
    "print(f\"frequency of each character{char_dic}\")"
   ]
  },
  {
   "cell_type": "code",
   "execution_count": null,
   "metadata": {},
   "outputs": [],
   "source": [
    "# 37. Remove all punctuation from a string.\n",
    "\n",
    "import string\n",
    "\n",
    "def remove_punctuation(input_string):\n",
    "    # Create a translation table\n",
    "    translator = str.maketrans('', '', string.punctuation)\n",
    "    print(translator)\n",
    "    # Use the translation table to remove punctuation\n",
    "    result_string = input_string.translate(translator)\n",
    "\n",
    "    return result_string\n",
    "\n",
    "input_text = \"Hello, world! This is an example text with punctuation.\"\n",
    "\n",
    "output_text = remove_punctuation(input_text)\n",
    "print(output_text)"
   ]
  },
  {
   "cell_type": "code",
   "execution_count": null,
   "metadata": {},
   "outputs": [],
   "source": [
    "# 38. Check if a string contains only digits.\n",
    "input_text = \"hello 31231132412341234\"\n",
    "str_check = True\n",
    "for char in input_text:\n",
    "    if not char.isdigit():\n",
    "        str_check = False\n",
    "        break\n",
    "    else:\n",
    "        continue\n",
    "print(\"String contains only digits\" if str_check else \"string contains not only digits but other characters as well\")"
   ]
  },
  {
   "cell_type": "code",
   "execution_count": null,
   "metadata": {},
   "outputs": [],
   "source": [
    "# 39. Check if a string contains only alphabets.\n",
    "input_text = \"hello\"\n",
    "str_check = True\n",
    "for char in input_text:\n",
    "    if not char.isalpha():\n",
    "        str_check = False\n",
    "        break\n",
    "    else:\n",
    "        continue\n",
    "print(\"String contains only alphabets\" if str_check else \"string contains not only alphabets but other characters as well\")"
   ]
  },
  {
   "cell_type": "code",
   "execution_count": null,
   "metadata": {},
   "outputs": [],
   "source": [
    "# 40. Convert a string to a list of characters.\n",
    "input_text = \"hello\"\n",
    "print(f\"list of characters in the string is {[char for char in input_text]}\")"
   ]
  },
  {
   "cell_type": "code",
   "execution_count": null,
   "metadata": {},
   "outputs": [],
   "source": [
    "# 41. Check if two strings are anagrams.\n",
    "str1, str2 = \"debit card\", \"bad credit\"\n",
    "anagrams_chk = True\n",
    "for item in set(str1):\n",
    "    if str1.count(item) != str2.count(item):\n",
    "        anagrams_chk = False\n",
    "        break\n",
    "if anagrams_chk:\n",
    "    print(f\"Strings '{str1}' and '{str2}' are anagrams\")\n",
    "else:\n",
    "    print(f\"Strings '{str1}' and '{str2}' are not anagrams\")"
   ]
  },
  {
   "cell_type": "code",
   "execution_count": null,
   "metadata": {},
   "outputs": [],
   "source": [
    "# 42. Encode a string using a Caesar cipher.\n",
    "def caesar_cipher_encrypt(text, shift):\n",
    "    result = \"\"\n",
    "    for char in text:\n",
    "        if char.isalpha():  # Check if the character is a letter\n",
    "            # Determine the case (uppercase or lowercase) of the character\n",
    "            if char.isupper():\n",
    "                result += chr((ord(char) + shift - ord('A')) % 26 + ord('A'))\n",
    "            else:\n",
    "                result += chr((ord(char) + shift - ord('a')) % 26 + ord('a'))\n",
    "        else:\n",
    "            result += char  # Non-alphabetic characters remain unchanged\n",
    "\n",
    "    return result\n",
    "\n",
    "\n",
    "plaintext = \"Hello, World!\"\n",
    "shift_value = 3\n",
    "\n",
    "encrypted_text = caesar_cipher_encrypt(plaintext, shift_value)\n",
    "print(\"Original:   \", plaintext)\n",
    "print(\"Encrypted:  \", encrypted_text)"
   ]
  },
  {
   "cell_type": "code",
   "execution_count": null,
   "metadata": {},
   "outputs": [],
   "source": [
    "# 43. Decode a Caesar cipher encoded string.\n",
    "def caesar_cipher_decrypt(text, shift):\n",
    "    result = \"\"\n",
    "\n",
    "    for char in text:\n",
    "        if char.isalpha():  # Check if the character is a letter\n",
    "            # Determine the case (uppercase or lowercase) of the character\n",
    "            if char.isupper():\n",
    "                result += chr((ord(char) - shift - ord('A')) % 26 + ord('A'))\n",
    "            else:\n",
    "                result += chr((ord(char) - shift - ord('a')) % 26 + ord('a'))\n",
    "        else:\n",
    "            result += char  # Non-alphabetic characters remain unchanged\n",
    "\n",
    "    return result\n",
    "\n",
    "\n",
    "encrypted_text = \"Khoor, Zruog!\"\n",
    "shift_value = 3\n",
    "decrypted_text = caesar_cipher_decrypt(encrypted_text, shift_value)\n",
    "print(\"Encrypted:  \", encrypted_text)\n",
    "print(\"Decrypted:  \", decrypted_text)"
   ]
  },
  {
   "cell_type": "code",
   "execution_count": null,
   "metadata": {},
   "outputs": [],
   "source": [
    "# 44. Find the most frequent word in a string.\n",
    "string_text = \"Hello World Hello Everyone\"\n",
    "counter = 0\n",
    "frequent_word = \"\"\n",
    "for word in string_text.split():\n",
    "    if string_text.count(word) > counter:\n",
    "        counter = string_text.count(word)\n",
    "        frequent_word = word\n",
    "print(f\"frequent word '{frequent_word}' with count {counter}\")"
   ]
  },
  {
   "cell_type": "code",
   "execution_count": null,
   "metadata": {},
   "outputs": [],
   "source": [
    "# 45. Find all unique words in a string.\n",
    "string_text = \"Hello World Hello Everyone\"\n",
    "print(f\"unique words '{set(string_text.split())}'\")"
   ]
  },
  {
   "cell_type": "code",
   "execution_count": null,
   "metadata": {},
   "outputs": [],
   "source": [
    "# 46. Count the number of syllables in a string.\n",
    "import syllables \n",
    "\n",
    "\n",
    "def count_syllables(word):\n",
    "    return syllables.estimate(word)\n",
    "\n",
    "\n",
    "def count_syllables_in_text(text):\n",
    "    words = text.split()\n",
    "    total_syllables = sum(count_syllables(word) for word in words)\n",
    "    return total_syllables\n",
    "\n",
    "\n",
    "\n",
    "text = \"Hello, how are you doing today?\"\n",
    "syllable_count = count_syllables_in_text(text)\n",
    "\n",
    "print(f\"The number of syllables in the text is: {syllable_count}\")"
   ]
  },
  {
   "cell_type": "code",
   "execution_count": null,
   "metadata": {},
   "outputs": [],
   "source": [
    "# 47. Check if a string contains any special characters.\n",
    "import re\n",
    "def contains_special_characters(input_string):\n",
    "    # Define a regular expression pattern for special characters\n",
    "    pattern = re.compile(r'[^a-zA-Z0-9\\s]')\n",
    "\n",
    "    # Check if the pattern matches any part of the input string\n",
    "    return bool(pattern.search(input_string))\n",
    "\n",
    "test_string1 = \"Hello123\"\n",
    "test_string2 = \"Hello@World!\"\n",
    "\n",
    "print(contains_special_characters(test_string1))  # Output: False\n",
    "print(contains_special_characters(test_string2))  # Output: True"
   ]
  },
  {
   "cell_type": "code",
   "execution_count": null,
   "metadata": {},
   "outputs": [],
   "source": [
    "# 48. Remove the nth word from a string.\n",
    "input_text = \"Hello how are you doing today?\"\n",
    "nth_word_position = 3\n",
    "try:\n",
    "    nth_word = input_text.split()[nth_word_position]\n",
    "    print(nth_word)\n",
    "    print(input_text.replace(nth_word, \"\"))\n",
    "\n",
    "except IndexError:\n",
    "    print(IndexError)"
   ]
  },
  {
   "cell_type": "code",
   "execution_count": null,
   "metadata": {},
   "outputs": [],
   "source": [
    "# 49. Insert a word at the nth position in a string.\n",
    "input_text = \"Hello how are  doing today?\"\n",
    "nth_word_position = 3\n",
    "nth_word = \"you\"\n",
    "try:\n",
    "    input_text1 = input_text.split()\n",
    "    input_text1.insert(nth_word_position, nth_word)\n",
    "    print(\" \".join(input_text1))\n",
    "\n",
    "except IndexError:\n",
    "    print(IndexError)"
   ]
  },
  {
   "cell_type": "code",
   "execution_count": null,
   "metadata": {},
   "outputs": [],
   "source": [
    "# 50. Convert a CSV string to a list of lists.\n",
    "csv_string = \"\"\"Name, Age, City\n",
    "John, 25, New York\n",
    "Jane, 30, London\n",
    "Bob, 22, Paris\n",
    "\"\"\"\n",
    "data_list = []\n",
    "for line in csv_string.splitlines():\n",
    "    line_data_list = [line]\n",
    "    data_list.append(line_data_list)\n",
    "print(data_list)"
   ]
  },
  {
   "cell_type": "markdown",
   "metadata": {},
   "source": [
    "List Based Practice Problem"
   ]
  },
  {
   "cell_type": "code",
   "execution_count": null,
   "metadata": {},
   "outputs": [],
   "source": [
    "#  1. Create a list with integers from 1 to 10.\n",
    "int_list = list(range(1, 11))\n",
    "print(int_list)\n"
   ]
  },
  {
   "cell_type": "code",
   "execution_count": null,
   "metadata": {},
   "outputs": [],
   "source": [
    "\n",
    "# 2. Find the length of a list without using the `len()` function.\n",
    "list1 = [1, 2, 3, 54, 56, 57]\n",
    "counter = 0\n",
    "for item in list1:\n",
    "    counter += 1\n",
    "print(f\"total length of list is {counter}\")\n",
    "\n"
   ]
  },
  {
   "cell_type": "code",
   "execution_count": null,
   "metadata": {},
   "outputs": [],
   "source": [
    "# 3. Append an element to the end of a list.\n",
    "list1 = [1, 2, 3, 54, 56, 57]\n",
    "list1.append(4)\n",
    "print(f\"updated list {list1}\")\n"
   ]
  },
  {
   "cell_type": "code",
   "execution_count": null,
   "metadata": {},
   "outputs": [],
   "source": [
    "\n",
    "# 4. Insert an element at a specific index in a list.\n",
    "list1 = [1, 2, 3, 54, 56, 57]\n",
    "print(f\"before insert {list1}\")\n",
    "list1.insert(0, 0)\n",
    "print(f\"after insert {list1}\")"
   ]
  },
  {
   "cell_type": "code",
   "execution_count": null,
   "metadata": {},
   "outputs": [],
   "source": [
    "# 5. Remove an element from a list by its value.\n",
    "list1 = [1, 2, 3, 54, 56, 57]\n",
    "print(f\"before removal by value {list1}\")\n",
    "list1.remove(3)\n",
    "print(f\"after removal by value {list1}\")"
   ]
  },
  {
   "cell_type": "code",
   "execution_count": null,
   "metadata": {},
   "outputs": [],
   "source": [
    "\n",
    "# 6. Remove an element from a list by its index.\n",
    "list1 = [1, 2, 3, 54, 56, 57]\n",
    "print(f\"before removal by index {list1}\")\n",
    "list1.pop(2)\n",
    "print(f\"after removal by index {list1}\")"
   ]
  },
  {
   "cell_type": "code",
   "execution_count": null,
   "metadata": {},
   "outputs": [],
   "source": [
    "# 7. Check if an element exists in a list.\n",
    "list1 = [1, 2, 3, 54, 56, 57]\n",
    "item_to_check = 31\n",
    "print(\"element is present\" if item_to_check in list1 else \"element is not present\")\n",
    "\n"
   ]
  },
  {
   "cell_type": "code",
   "execution_count": null,
   "metadata": {},
   "outputs": [],
   "source": [
    "# 8. Find the index of the first occurrence of an element in a list.\n",
    "list1 = [1, 2, 3, 54, 56, 57, 1]\n",
    "item_to_check = 3\n",
    "index = None\n",
    "counter = -1\n",
    "for item in list1:\n",
    "    counter += 1\n",
    "    if item_to_check == item:\n",
    "        index = counter\n",
    "        break\n",
    "print(f\"{item_to_check} is present at index {index}\")\n"
   ]
  },
  {
   "cell_type": "code",
   "execution_count": null,
   "metadata": {},
   "outputs": [],
   "source": [
    "\n",
    "# 9. Count the occurrences of an element in a list.\n",
    "list1 = [1, 2, 3, 54, 56, 57, 1]\n",
    "item_to_check = 1\n",
    "counter = 0\n",
    "for item in list1:\n",
    "    if item_to_check == item:\n",
    "        counter += 1\n",
    "print(f\"{item_to_check} is present {counter} number of times in {list1}\")\n"
   ]
  },
  {
   "cell_type": "code",
   "execution_count": null,
   "metadata": {},
   "outputs": [],
   "source": [
    "# 10. Reverse the order of elements in a list.\n",
    "list1 = [1, 2, 3, 54, 56, 57]\n",
    "print(f\"reverse of {list1} is {list1[::-1]}\")\n"
   ]
  },
  {
   "cell_type": "code",
   "execution_count": null,
   "metadata": {},
   "outputs": [],
   "source": [
    "# 11. Sort a list in ascending order.\n",
    "list1 = [54, 56, 57, 1, 2, 3]\n",
    "print(f\"original list {list1}\")\n",
    "list1.sort(key=None)\n",
    "print(f\"Sorted list in ascending order {list1}\")\n"
   ]
  },
  {
   "cell_type": "code",
   "execution_count": null,
   "metadata": {},
   "outputs": [],
   "source": [
    "\n",
    "# 12. Sort a list in descending order.\n",
    "list1 = [1, 2, 3, 54, 56, 57]\n",
    "print(f\"original list {list1}\")\n",
    "list1.sort(key=None, reverse=True)\n",
    "print(f\"Sorted list in descending order {list1}\")\n"
   ]
  },
  {
   "cell_type": "code",
   "execution_count": null,
   "metadata": {},
   "outputs": [],
   "source": [
    "\n",
    "# 13. Create a list of even numbers from 1 to 20.\n",
    "list1 = [item for item in range(1, 21) if item % 2 == 0]\n",
    "print(f\"even numbers from 1 to 20 list {list1}\")\n"
   ]
  },
  {
   "cell_type": "code",
   "execution_count": null,
   "metadata": {},
   "outputs": [],
   "source": [
    "\n",
    "# 14. Create a list of odd numbers from 1 to 20.\n",
    "list1 = [item for item in range(1, 21) if item % 2 != 0]\n",
    "print(f\"odd numbers from 1 to 20 list {list1}\")\n"
   ]
  },
  {
   "cell_type": "code",
   "execution_count": null,
   "metadata": {},
   "outputs": [],
   "source": [
    "\n",
    "# 15. Find the sum of all elements in a list.\n",
    "list1 = [1, 2, 3, 5, 6, 7]\n",
    "print(sum(list1))\n"
   ]
  },
  {
   "cell_type": "code",
   "execution_count": null,
   "metadata": {},
   "outputs": [],
   "source": [
    "\n",
    "# 16. Find the maximum value in a list.\n",
    "list1 = [1, 2, 3, 5, 6, 7]\n",
    "print(max(list1))\n"
   ]
  },
  {
   "cell_type": "code",
   "execution_count": null,
   "metadata": {},
   "outputs": [],
   "source": [
    "\n",
    "# 17. Find the minimum value in a list.\n",
    "list1 = [1, 2, 3, 5, 6, 7]\n",
    "print(min(list1))\n"
   ]
  },
  {
   "cell_type": "code",
   "execution_count": null,
   "metadata": {},
   "outputs": [],
   "source": [
    "\n",
    "# 18. Create a list of squares of numbers from 1 to 10.\n",
    "list1 = [num ** 2 for num in range(1, 11)]\n",
    "print(list1)\n",
    "\n"
   ]
  },
  {
   "cell_type": "code",
   "execution_count": null,
   "metadata": {},
   "outputs": [],
   "source": [
    "# 19. Create a list of random numbers.\n",
    "import random\n",
    "random_numbers = [random.randint(1, 100) for _ in range(10)]\n",
    "print(random_numbers)\n",
    "\n"
   ]
  },
  {
   "cell_type": "code",
   "execution_count": null,
   "metadata": {},
   "outputs": [],
   "source": [
    "# 20. Remove duplicates from a list.\n",
    "list1 = [1, 2, 3, 54, 56, 57, 1]\n",
    "print(f\"unique item list {set(list1)}\")\n",
    "\n"
   ]
  },
  {
   "cell_type": "code",
   "execution_count": null,
   "metadata": {},
   "outputs": [],
   "source": [
    "# 21. Find the common elements between two lists.\n",
    "list1 = [1, 2, 3, 54, 56, 57, 1]\n",
    "list2 = [54, 56, 57, 1]\n",
    "common_list = set([item for item in list1 if item in list2])\n",
    "print(f\"common item list {common_list}\")\n",
    "\n"
   ]
  },
  {
   "cell_type": "code",
   "execution_count": null,
   "metadata": {},
   "outputs": [],
   "source": [
    "# 22. Find the difference between two lists.\n",
    "list1 = [1, 2, 3, 54, 56, 57, 1]\n",
    "list2 = [54, 56, 57, 1]\n",
    "difference_list = set([item for item in list1 if item not in list2])\n",
    "print(f\"common item list {difference_list}\")"
   ]
  },
  {
   "cell_type": "code",
   "execution_count": null,
   "metadata": {},
   "outputs": [],
   "source": [
    "# 23. Merge two lists.\n",
    "list1 = [1, 2, 3, 54, 56, 57, 1]\n",
    "list2 = [64, 66, 67, 61]\n",
    "list1.extend(list2)\n",
    "print(f\"common item  list {list1}\")"
   ]
  },
  {
   "cell_type": "code",
   "execution_count": null,
   "metadata": {},
   "outputs": [],
   "source": [
    "#  24. Multiply all elements in a list by 2.\n",
    "list1 = [1, 2, 3, 5, 6, 7]\n",
    "updated_list = [item*2 for item in list1]\n",
    "print(updated_list)"
   ]
  },
  {
   "cell_type": "code",
   "execution_count": null,
   "metadata": {},
   "outputs": [],
   "source": [
    "# 25. Filter out all even numbers from a list.\n",
    "list1 = [1, 2, 3, 5, 6, 7]\n",
    "even_item_list = [item for item in list1 if item % 2 == 0]\n",
    "print(even_item_list)"
   ]
  },
  {
   "cell_type": "code",
   "execution_count": null,
   "metadata": {},
   "outputs": [],
   "source": [
    "# 26. Convert a list of strings to a list of integers.\n",
    "list_of_string = ['1', '2', '3', '5', '6', '7', 'a']\n",
    "list_of_int = [int(item) for item in list_of_string if item.isdigit()]\n",
    "print(f\"final list is{list_of_int}\")"
   ]
  },
  {
   "cell_type": "code",
   "execution_count": null,
   "metadata": {},
   "outputs": [],
   "source": [
    "# 27. Convert a list of integers to a list of strings.\n",
    "list_of_int = [1, 2, 3, 5, 6, 7]\n",
    "list_of_string = [str(item) for item in list_of_int]\n",
    "print(f\"final list is{list_of_string}\")"
   ]
  },
  {
   "cell_type": "code",
   "execution_count": null,
   "metadata": {},
   "outputs": [],
   "source": [
    "# 28. Flatten a nested list.\n",
    "nested_list = [['1', '2', '3', '5', '6', '7'], ['a', 'b', 'c', 'd', 'e', 'f', 'g', 'h', 'i']]\n",
    "flatten_list = [item for sub_list in nested_list for item in sub_list]\n",
    "for sub_list in nested_list:\n",
    "    for item in sub_list:\n",
    "        flatten_list.append(item)\n",
    "print(flatten_list)"
   ]
  },
  {
   "cell_type": "code",
   "execution_count": null,
   "metadata": {},
   "outputs": [],
   "source": [
    "# 29. Create a list of the first 10 Fibonacci numbers.\n",
    "fibonacci_numbers = [0, 1]\n",
    "for _ in range(2, 11):\n",
    "    next_num = fibonacci_numbers[-1] + fibonacci_numbers[-2]\n",
    "    fibonacci_numbers.append(next_num)\n",
    "print(fibonacci_numbers)"
   ]
  },
  {
   "cell_type": "code",
   "execution_count": null,
   "metadata": {},
   "outputs": [],
   "source": [
    "# 30. Check if a list is sorted.\n",
    "def is_sorted(lst):\n",
    "    return all(lst[i] <= lst[i + 1] for i in range(len(lst) - 1))\n",
    "\n",
    "sorted_list = [1, 2, 3, 4, 5]\n",
    "unsorted_list = [3, 1, 4, 1, 5, 9, 2, 6]\n",
    "\n",
    "print(is_sorted(sorted_list))\n",
    "print(is_sorted(unsorted_list))"
   ]
  },
  {
   "cell_type": "code",
   "execution_count": null,
   "metadata": {},
   "outputs": [],
   "source": [
    "# 31. Rotate a list to the left by `n` positions.\n",
    "def rotate_left(lst, n):\n",
    "    n = n % len(lst)  # Ensure n is within the length of the list\n",
    "    return lst[n:] + lst[:n]\n",
    "\n",
    "# Example usage\n",
    "my_list = [1, 2, 3, 4, 5]\n",
    "\n",
    "rotated_list = rotate_left(my_list, 2)\n",
    "print(rotated_list)"
   ]
  },
  {
   "cell_type": "code",
   "execution_count": null,
   "metadata": {},
   "outputs": [],
   "source": [
    "# 32. Rotate a list to the right by `n` positions.\n",
    "def rotate_right(lst, n):\n",
    "    n = n % len(lst)  # Ensure n is within the length of the list\n",
    "    return lst[-n:] + lst[:-n]\n",
    "\n",
    "# Example usage\n",
    "my_list = [1, 2, 3, 4, 5]\n",
    "\n",
    "rotated_list = rotate_right(my_list, 2)\n",
    "print(rotated_list)\n"
   ]
  },
  {
   "cell_type": "code",
   "execution_count": null,
   "metadata": {},
   "outputs": [],
   "source": [
    "# 33. Create a list of prime numbers up to 50.\n",
    "def is_prime(num):\n",
    "    if num < 2:\n",
    "        return False\n",
    "    for i in range(2, int(num**0.5) + 1):\n",
    "        if num % i == 0:\n",
    "            return False\n",
    "    return True\n",
    "\n",
    "# Generate a list of prime numbers up to 50\n",
    "prime_numbers = [num for num in range(2, 51) if is_prime(num)]\n",
    "print(prime_numbers)"
   ]
  },
  {
   "cell_type": "code",
   "execution_count": null,
   "metadata": {},
   "outputs": [],
   "source": [
    "# 34. Split a list into chunks of size `n`.\n",
    "def chunk_list(input_list, chunk_size):\n",
    "    return [input_list[i:i + chunk_size] for i in range(0, len(input_list), chunk_size)]\n",
    "    # chunked_list = []\n",
    "    # for i in range(0, len(input_list), chunk_size):\n",
    "    #     chunked_list.append(input_list[i:i + chunk_size])\n",
    "    # return  chunked_list\n",
    "my_list = [1, 2, 3, 4, 5, 6, 7, 8, 9, 10]\n",
    "chunked_list = chunk_list(my_list, 3)\n",
    "print(chunked_list)"
   ]
  },
  {
   "cell_type": "code",
   "execution_count": null,
   "metadata": {},
   "outputs": [],
   "source": [
    "# 35. Find the second-largest number in a list.\n",
    "my_list = [1, 2, 3, 4, 5, 6, 7, 8, 9, 10]\n",
    "# removing the max and then calculating max\n",
    "my_list.remove(max(my_list))\n",
    "print(max(my_list))"
   ]
  },
  {
   "cell_type": "code",
   "execution_count": null,
   "metadata": {},
   "outputs": [],
   "source": [
    "# 36. Replace every element in a list with its square.\n",
    "my_list = [1, 2, 3, 4, 5, 6, 7, 8, 9, 10]\n",
    "# for x in range(0, len(my_list)):\n",
    "#     my_list[x] = my_list[x]**2\n",
    "print(my_list)\n",
    "my_list = [my_list[x]**2 for x in range(0, len(my_list))]\n",
    "print(my_list)\n"
   ]
  },
  {
   "cell_type": "code",
   "execution_count": null,
   "metadata": {},
   "outputs": [],
   "source": [
    "# 37. Convert a list to a dictionary where list elements become keys and their indices become values.\n",
    "my_list = [1, 2, 3, 4, 5, 6, 7, 8, 9, 10]\n",
    "result_disc = {}\n",
    "for index in range(0, len(my_list)):\n",
    "    result_disc.update({my_list[index]: index})\n",
    "print(result_disc)\n"
   ]
  },
  {
   "cell_type": "code",
   "execution_count": null,
   "metadata": {},
   "outputs": [],
   "source": [
    "# 38. Shuffle the elements of a list randomly.\n",
    "import random\n",
    "my_list = [1, 2, 3, 4, 5, 6, 7, 8, 9, 10]\n",
    "random.shuffle(my_list)\n",
    "print(my_list)\n"
   ]
  },
  {
   "cell_type": "code",
   "execution_count": null,
   "metadata": {},
   "outputs": [],
   "source": [
    "# 39. Create a list of the first 10 factorial numbers.\n",
    "def factorial(num):\n",
    "    if num == 0 or num == 1:\n",
    "        return 1\n",
    "    else:\n",
    "        return num * factorial(num - 1)\n",
    "\n",
    "# Generate a list of the first 10 factorial numbers\n",
    "factorial_numbers = [factorial(i) for i in range(10)]\n",
    "\n",
    "print(factorial_numbers)"
   ]
  },
  {
   "cell_type": "code",
   "execution_count": null,
   "metadata": {},
   "outputs": [],
   "source": [
    "# 40. Check if two lists have at least one element in common.\n",
    "def check_common_element(lst1, lst2):\n",
    "    common_list = [item for item in lst1 if item in lst2]\n",
    "    return True if len(common_list) > 0 else False\n",
    "\n",
    "list1 = [1, 2, 3, 54, 56, 57, 1]\n",
    "list2 = [33, 1]\n",
    "\n",
    "print(check_common_element(list1, list2))"
   ]
  },
  {
   "cell_type": "code",
   "execution_count": null,
   "metadata": {},
   "outputs": [],
   "source": [
    "# 41. Remove all elements from a list.\n",
    "list1 = [1, 2, 3, 54, 56, 57, 1]\n",
    "print(f\"before clearing {list1}\")\n",
    "list1.clear()\n",
    "print(f\"after clearing {list1}\")"
   ]
  },
  {
   "cell_type": "code",
   "execution_count": null,
   "metadata": {},
   "outputs": [],
   "source": [
    "# 42. Replace negative numbers in a list with 0.\n",
    "list1 = [1, 2, 3, 54, 56, 57, 1, -3]\n",
    "print(f\"before replacing {list1}\")\n",
    "list1 = [num if num == abs(num) else 0 for num in list1]\n",
    "print(f\"after replacing {list1}\")"
   ]
  },
  {
   "cell_type": "code",
   "execution_count": null,
   "metadata": {},
   "outputs": [],
   "source": [
    "# 43. Convert a string into a list of words.\n",
    "string = \"Convert a string into a list of words\"\n",
    "print(string)\n",
    "print(string.split())"
   ]
  },
  {
   "cell_type": "code",
   "execution_count": null,
   "metadata": {},
   "outputs": [],
   "source": [
    "# 44. Convert a list of words into a string.\n",
    "list_of_words = ['Convert', 'a', 'string', 'into', 'a', 'list', 'of', 'words']\n",
    "string = \" \".join(list_of_words)\n",
    "print(string)"
   ]
  },
  {
   "cell_type": "code",
   "execution_count": null,
   "metadata": {},
   "outputs": [],
   "source": [
    "# 45. Create a list of the first `n` powers of 2.\n",
    "my_list = [2 ** num for num in range(1, 11)]\n",
    "print(my_list)"
   ]
  },
  {
   "cell_type": "code",
   "execution_count": null,
   "metadata": {},
   "outputs": [],
   "source": [
    "# 46. Find the longest string in a list of strings.\n",
    "string_list = [\"apple\", \"banana\", \"kiwi\", \"strawberry\", \"orange\"]\n",
    "longest_string = max(string_list, key=len)\n",
    "print(\"Longest string:\", longest_string)"
   ]
  },
  {
   "cell_type": "code",
   "execution_count": null,
   "metadata": {},
   "outputs": [],
   "source": [
    "# 47. Find the shortest string in a list of strings.\n",
    "string_list = [\"apple\", \"banana\", \"kiwi\", \"strawberry\", \"orange\"]\n",
    "shortest_string = min(string_list, key=len)\n",
    "print(\"Shortest string:\", shortest_string)"
   ]
  },
  {
   "cell_type": "code",
   "execution_count": null,
   "metadata": {},
   "outputs": [],
   "source": [
    "# 48. Create a list of the first `n` triangular numbers.\n",
    "n = 10\n",
    "triangular_numbers = [i * (i + 1) // 2 for i in range(1, n + 1)]\n",
    "print(triangular_numbers)"
   ]
  },
  {
   "cell_type": "code",
   "execution_count": null,
   "metadata": {},
   "outputs": [],
   "source": [
    "# 49. Check if a list contains another list as a subsequence.\n",
    "def is_subsequence(sublist, mainlist):\n",
    "    sub_len = len(sublist)\n",
    "    temp_list = [x for x in mainlist if x in sublist]\n",
    "    return len(temp_list) == sub_len\n",
    "\n",
    "main_list = [1, 2, 3, 4, 5, 6, 7, 8, 9, 10]\n",
    "sub_list = [3, 5, 7, 61]\n",
    "\n",
    "result = is_subsequence(sub_list, main_list)\n",
    "\n",
    "print(result)"
   ]
  },
  {
   "cell_type": "code",
   "execution_count": null,
   "metadata": {},
   "outputs": [],
   "source": [
    "# 50. Swap two elements in a list by their indices.\n",
    "def swap_elements(lst, index1, index2):\n",
    "    lst[index1], lst[index2] = lst[index2], lst[index1]\n",
    "\n",
    "my_list = [1, 2, 3, 4, 5]\n",
    "print(f\"before swapping {my_list}\")\n",
    "# Swap elements at indices 1 and 3\n",
    "index1, index2 = 1, 3\n",
    "swap_elements(my_list, index1, index2)\n",
    "\n",
    "print(f\"after swapping of index {index1} and {index2} {my_list}\")"
   ]
  },
  {
   "cell_type": "markdown",
   "metadata": {},
   "source": [
    "Tuple Based Practice Problem :"
   ]
  },
  {
   "cell_type": "code",
   "execution_count": null,
   "metadata": {},
   "outputs": [],
   "source": [
    "# 1. Create a tuple with integers from 1 to 5.\n",
    "tuple1 = (1,2,3,4,5)\n",
    "print (type(tuple1))\n",
    "print(tuple1)"
   ]
  },
  {
   "cell_type": "code",
   "execution_count": null,
   "metadata": {},
   "outputs": [],
   "source": [
    "# 2. Access the third element of a tuple.\n",
    "tuple1 = (1,2,3,4,5)\n",
    "print(tuple1[2])\n"
   ]
  },
  {
   "cell_type": "code",
   "execution_count": null,
   "metadata": {},
   "outputs": [],
   "source": [
    "# 3. Find the length of a tuple without using the `len()` function.\n",
    "tuple1 = (1,2,3,4,5)\n",
    "size_counter = 0 \n",
    "for _ in tuple1:\n",
    "    size_counter += 1\n",
    "print(f\"lenght of {tuple1} is {size_counter}\")"
   ]
  },
  {
   "cell_type": "code",
   "execution_count": null,
   "metadata": {},
   "outputs": [],
   "source": [
    "# 4. Count the occurrences of an element in a tuple.\n",
    "tuple1 = (1,2,3,4,5,2,3)\n",
    "item_dic = {} \n",
    "for item in tuple1:\n",
    "    if item in list(item_dic.keys()):\n",
    "        item_dic.update({item:item_dic.get(item)+1})\n",
    "    else:\n",
    "        item_dic.update({item:1})\n",
    "    \n",
    "print(f\"ccurrences of an element in {tuple1} is {item_dic}\")"
   ]
  },
  {
   "cell_type": "code",
   "execution_count": null,
   "metadata": {},
   "outputs": [],
   "source": [
    "# 5. Find the index of the first occurrence of an element in a tuple.\n",
    "tuple1 = (1,2,3,4,5,2,3)\n",
    "element_to_chk = 2\n",
    "print(f\"element {element_to_chk} is at {tuple1.index(element_to_chk)}\")"
   ]
  },
  {
   "cell_type": "code",
   "execution_count": null,
   "metadata": {},
   "outputs": [],
   "source": [
    "# 6. Check if an element exists in a tuple.\n",
    "tuple1 = (1,2,3,4,5,2,3)\n",
    "element_to_chk = 21\n",
    "print(\"element exists\" if tuple1.count(element_to_chk) > 0 else \"element does not exists\")"
   ]
  },
  {
   "cell_type": "code",
   "execution_count": null,
   "metadata": {},
   "outputs": [],
   "source": [
    "# 7. Convert a tuple to a list.\n",
    "tuple1 = (1,2,3,4,5,2,3)\n",
    "print(f\"tuple {tuple1} and it's list representation {list(tuple1)}\")"
   ]
  },
  {
   "cell_type": "code",
   "execution_count": null,
   "metadata": {},
   "outputs": [],
   "source": [
    "# 8. Convert a list to a tuple.\n",
    "list1 = [1, 2, 3, 4, 5, 2, 3]\n",
    "print(f\"list {list1} and it's tuple representation {tuple(list1)}\")"
   ]
  },
  {
   "cell_type": "code",
   "execution_count": null,
   "metadata": {},
   "outputs": [],
   "source": [
    "# 9. Unpack the elements of a tuple into variables.\n",
    "tuple1 = (1,2,3,4,5,)\n",
    "a,b,c,d,e = tuple1\n",
    "print(a,b,c,d,e)"
   ]
  },
  {
   "cell_type": "code",
   "execution_count": null,
   "metadata": {},
   "outputs": [],
   "source": [
    "# 10. Create a tuple of even numbers from 1 to 10.\n",
    "tuple1 = tuple([num for num in range(1, 10) if num % 2 == 0])\n",
    "print(tuple1)"
   ]
  },
  {
   "cell_type": "code",
   "execution_count": null,
   "metadata": {},
   "outputs": [],
   "source": [
    "# 11. Create a tuple of odd numbers from 1 to 10.\n",
    "tuple1 = tuple([num for num in range(1, 10) if num % 2 != 0])\n",
    "print(tuple1)"
   ]
  },
  {
   "cell_type": "code",
   "execution_count": null,
   "metadata": {},
   "outputs": [],
   "source": [
    "# 12. Concatenate two tuples.\n",
    "tuple1 = (1, 3, 5, 7, 9)\n",
    "tuple2 = (2, 4, 6, 8)\n",
    "\n",
    "print(tuple1+tuple2)"
   ]
  },
  {
   "cell_type": "code",
   "execution_count": null,
   "metadata": {},
   "outputs": [],
   "source": [
    "# 13. Repeat a tuple three times.\n",
    "tuple1 = (1, 3, 5, 7, 9)\n",
    "print (tuple1 * 3)"
   ]
  },
  {
   "cell_type": "code",
   "execution_count": null,
   "metadata": {},
   "outputs": [],
   "source": [
    "# 14. Check if a tuple is empty.\n",
    "tuple1 = (1, 3, 5, 7, 9)\n",
    "print (\"tuple is empty\" if len(tuple1) < 1 else \"tuple is not empty\")"
   ]
  },
  {
   "cell_type": "code",
   "execution_count": null,
   "metadata": {},
   "outputs": [],
   "source": [
    "# 15. Create a nested tuple.\n",
    "nested_tuple = ((3, 4),(6, 7, 8))\n",
    "print(nested_tuple)\n"
   ]
  },
  {
   "cell_type": "code",
   "execution_count": null,
   "metadata": {},
   "outputs": [],
   "source": [
    "# 16. Access the first element of a nested tuple.\n",
    "nested_tuple = ((3, 4),(6, 7, 8))\n",
    "print(f\"first element in nested tuple is {nested_tuple[0][0]}\")"
   ]
  },
  {
   "cell_type": "code",
   "execution_count": null,
   "metadata": {},
   "outputs": [],
   "source": [
    "# 17. Create a tuple with a single element.\n",
    "tuple1 = (1,)\n",
    "print(type(tuple1))"
   ]
  },
  {
   "cell_type": "code",
   "execution_count": null,
   "metadata": {},
   "outputs": [],
   "source": [
    "# 18. Compare two tuples.\n",
    "tuple1 = (1, 2, 3)\n",
    "tuple2 = (1, 2, 3)\n",
    "if tuple1 == tuple2:\n",
    "    print(\"both tuples are equal\")\n",
    "else:\n",
    "    print(\"both tuples are not equal\")"
   ]
  },
  {
   "cell_type": "code",
   "execution_count": null,
   "metadata": {},
   "outputs": [],
   "source": [
    "# 19. Delete a tuple.\n",
    "\"\"\"\n",
    "In Python, you cannot directly delete elements from a tuple or the entire tuple because tuples are immutable, \n",
    "meaning their elements cannot be modified or removed once they are assigned. \n",
    "\"\"\"\n",
    "# in case if an element at an index has to be deleted but this create new tuples rather than modifying the existing one\n",
    "my_tuple = (1, 2, 3, 4, 5)\n",
    "print(f\"before removal of an item {my_tuple}\")\n",
    "index_at = 3\n",
    "my_list = list(my_tuple)\n",
    "my_list.pop(index_at)\n",
    "my_tuple = tuple(my_list)\n",
    "print(f\"after removal of an item {my_tuple}\")\n"
   ]
  },
  {
   "cell_type": "code",
   "execution_count": null,
   "metadata": {},
   "outputs": [],
   "source": [
    "# 20. Slice a tuple.\n",
    "my_tuple = (1, 2, 3, 4, 5)\n",
    "slice_index = 3\n",
    "my_tuple1 = my_tuple[:slice_index]\n",
    "my_tuple2 = my_tuple[slice_index:]\n",
    "print(my_tuple1,my_tuple2)"
   ]
  },
  {
   "cell_type": "code",
   "execution_count": null,
   "metadata": {},
   "outputs": [],
   "source": [
    "# 21. Find the maximum value in a tuple.\n",
    "my_tuple = (1, 2, 3, 4, 5)\n",
    "print(max(my_tuple))"
   ]
  },
  {
   "cell_type": "code",
   "execution_count": null,
   "metadata": {},
   "outputs": [],
   "source": [
    "# 22. Find the minimum value in a tuple.\n",
    "my_tuple = (1, 2, 3, 4, 5)\n",
    "print(min(my_tuple))"
   ]
  },
  {
   "cell_type": "code",
   "execution_count": null,
   "metadata": {},
   "outputs": [],
   "source": [
    "# 23. Convert a string to a tuple of characters.\n",
    "str1 = \"characters\"\n",
    "print(tuple(str1))"
   ]
  },
  {
   "cell_type": "code",
   "execution_count": null,
   "metadata": {},
   "outputs": [],
   "source": [
    "# 24. Convert a tuple of characters to a string.\n",
    "my_tuple = ('c', 'h', 'a', 'r', 'a', 'c', 't', 'e', 'r', 's')\n",
    "print(\"\".join(my_tuple))"
   ]
  },
  {
   "cell_type": "code",
   "execution_count": null,
   "metadata": {},
   "outputs": [],
   "source": [
    "# 25. Create a tuple from multiple data types.\n",
    "my_tuple = (1,\"2\",True,2.0)\n",
    "print(type(my_tuple))\n",
    "print(my_tuple)"
   ]
  },
  {
   "cell_type": "code",
   "execution_count": null,
   "metadata": {},
   "outputs": [],
   "source": [
    "# 26. Check if two tuples are identical.\n",
    "tuple1 = (1, 2, 3)\n",
    "tuple2 = (1, '2', 3)\n",
    "if tuple1 == tuple2:\n",
    "    print(\"both tuples are equal\")\n",
    "else:\n",
    "    print(\"both tuples are not equal\")"
   ]
  },
  {
   "cell_type": "code",
   "execution_count": null,
   "metadata": {},
   "outputs": [],
   "source": [
    "# 27. Sort the elements of a tuple.\n",
    "\"\"\"\n",
    "Tuples in Python are immutable, so you can't directly sort the elements of a tuple in place. \n",
    "\"\"\"\n",
    "my_tuple = ('c', 'h', 'a', 'r', 'a', 'c', 't', 'e', 'r', 's')\n",
    "my_list = list(my_tuple)\n",
    "my_list.sort()\n",
    "my_tuple = tuple(my_list)\n",
    "print(my_tuple)"
   ]
  },
  {
   "cell_type": "code",
   "execution_count": null,
   "metadata": {},
   "outputs": [],
   "source": [
    "# 28. Convert a tuple of integers to a tuple of strings.\n",
    "tuple1 = (1, 2, 3)\n",
    "tuple2 = tuple([str(item) for item in list(tuple1)])\n",
    "print(f\"integers tuple {tuple1}\")\n",
    "print(f\"strings tuple {tuple2}\")"
   ]
  },
  {
   "cell_type": "code",
   "execution_count": null,
   "metadata": {},
   "outputs": [],
   "source": [
    "# 29. Convert a tuple of strings to a tuple of integers.\n",
    "tuple_strings = ('1', '2', '3')\n",
    "tuple_integers  = tuple([int(item) for item in list(tuple_strings)])\n",
    "print(f\"strings tuple {tuple_strings}\")\n",
    "print(f\"integers tuple {tuple_integers}\")"
   ]
  },
  {
   "cell_type": "code",
   "execution_count": null,
   "metadata": {},
   "outputs": [],
   "source": [
    "# 30. Merge two tuples.\n",
    "tuple1 = ('1', '2', '3')\n",
    "tuple2 = (1, 2, 3)\n",
    "print(tuple1+tuple2)"
   ]
  },
  {
   "cell_type": "code",
   "execution_count": null,
   "metadata": {},
   "outputs": [],
   "source": [
    "# 31. Flatten a nested tuple.\n",
    "nested_tuple = ((3, 4),(6, 7, 8))\n",
    "flattened_tuple = tuple([item for tup in nested_tuple for item in tup ])\n",
    "print(f\"nested tuple {nested_tuple}\")\n",
    "print(f\"flattened tuple {flattened_tuple}\")\n"
   ]
  },
  {
   "cell_type": "code",
   "execution_count": null,
   "metadata": {},
   "outputs": [],
   "source": [
    "# 32. Create a tuple of the first 5 prime numbers.\n",
    "def check_prime_number(num):\n",
    "    if num <= 1:\n",
    "        return False\n",
    "    for i  in range(2,(int(num**0.5) + 1) ):\n",
    "        if num % i == 0:\n",
    "            return False\n",
    "    return True\n",
    "\n",
    "prime_num_list = []\n",
    "for i in range (1, 200):\n",
    "    if len(prime_num_list) < 6: # add till the list size becomes 5 \n",
    "        if (check_prime_number(i)):\n",
    "            prime_num_list.append(i)\n",
    "    else:\n",
    "        break\n",
    "print(tuple(prime_num_list))\n",
    "    "
   ]
  },
  {
   "cell_type": "code",
   "execution_count": null,
   "metadata": {},
   "outputs": [],
   "source": [
    "# 33. Check if a tuple is a palindrome.\n",
    "tuple1 =(1,2,3,3,2,1)\n",
    "if tuple1[::] == tuple1[::-1]:\n",
    "    print(\"palindrome tuple\")\n",
    "else:\n",
    "    print(\"not palindrome tuple\")\n"
   ]
  },
  {
   "cell_type": "code",
   "execution_count": null,
   "metadata": {},
   "outputs": [],
   "source": [
    "# 34. Create a tuple of squares of numbers from 1 to 5.\n",
    "list_of_squares = [item ** 2 for item in range(1,6)]\n",
    "print(tuple(list_of_squares))\n"
   ]
  },
  {
   "cell_type": "code",
   "execution_count": null,
   "metadata": {},
   "outputs": [],
   "source": [
    "# 35. Filter out all even numbers from a tuple.\n",
    "tuple1 = (1, 2, 3, 4, 5, 6, 7, 8, 9, 10, 11, 12, 13, 14, 15)\n",
    "print(f\"even num tuple {[item for item in tuple1 if item % 2 ==0]}\")"
   ]
  },
  {
   "cell_type": "code",
   "execution_count": null,
   "metadata": {},
   "outputs": [],
   "source": [
    "# 36. Multiply all elements in a tuple by 2.\n",
    "tuple1 = (1, 2, 3, 4, 5, 6, 7, 8, 9, 10, 11, 12, 13, 14, 15)\n",
    "print(f\"{[item*2 for item in tuple1]}\")"
   ]
  },
  {
   "cell_type": "code",
   "execution_count": null,
   "metadata": {},
   "outputs": [],
   "source": [
    "# 37. Create a tuple of random numbers.\n",
    "import random\n",
    "randon_num_tuple = tuple(random.randint(1, 100) for _ in range(5))\n",
    "print(f\"random numbers tuple {randon_num_tuple}\")"
   ]
  },
  {
   "cell_type": "code",
   "execution_count": null,
   "metadata": {},
   "outputs": [],
   "source": [
    "# 38. Check if a tuple is sorted.\n",
    "tuple1 = (1, 2, 3, 4, 5, 6, 7, 8, 10, 9 , 11, 12, 13, 14, 15)\n",
    "tuple2 = tuple(sorted(tuple1))\n",
    "print(\"tuple is sorted\" if tuple1 == tuple2 else \"not sorted\")"
   ]
  },
  {
   "cell_type": "code",
   "execution_count": null,
   "metadata": {},
   "outputs": [],
   "source": [
    "# 39. Rotate a tuple to the left by `n` positions.\n",
    "tuple1 = (1, 2, 3, 4, 5, 6, 7, 8, 10, 9 , 11, 12, 13, 14, 15)\n",
    "print(tuple1)\n",
    "position = 5\n",
    "tuple1 = tuple1[position:] + tuple1 [:position]\n",
    "print(f\"tuple to the left by {position} positions\")\n",
    "print(tuple1)"
   ]
  },
  {
   "cell_type": "code",
   "execution_count": null,
   "metadata": {},
   "outputs": [],
   "source": [
    "# 40. Rotate a tuple to the right by `n` positions.\n",
    "tuple1 = (1, 2, 3, 4, 5, 6, 7, 8, 10, 9 , 11, 12, 13, 14, 15)\n",
    "print(tuple1)\n",
    "position = 5\n",
    "tuple1 = tuple1[-position:] + tuple1 [:-position]\n",
    "print(f\"tuple to the right by {position} positions\")\n",
    "print(tuple1)"
   ]
  },
  {
   "cell_type": "code",
   "execution_count": null,
   "metadata": {},
   "outputs": [],
   "source": [
    "# 41. Create a tuple of the first 5 Fibonacci numbers.\n",
    "def generate_fibonacci(n):\n",
    "    fibonacci_sequence = [0, 1]\n",
    "    while len(fibonacci_sequence) < n:\n",
    "        next_fibonacci = fibonacci_sequence[-1] + fibonacci_sequence[-2]\n",
    "        fibonacci_sequence.append(next_fibonacci)\n",
    "    return tuple(fibonacci_sequence)\n",
    "\n",
    "first_5_fibonacci = generate_fibonacci(5)\n",
    "\n",
    "# Print the result\n",
    "print(first_5_fibonacci)\n"
   ]
  },
  {
   "cell_type": "code",
   "execution_count": null,
   "metadata": {},
   "outputs": [],
   "source": [
    "# 42. Create a tuple from user input.\n",
    "user_input = input(\"Enter elements separated by comma: \")\n",
    "\n",
    "# Convert the input string to a tuple\n",
    "user_tuple = tuple(user_input.split(\",\"))\n",
    "\n",
    "# Print the result\n",
    "print(\"User input as a tuple:\", user_tuple)\n"
   ]
  },
  {
   "cell_type": "code",
   "execution_count": null,
   "metadata": {},
   "outputs": [],
   "source": [
    "# 43. Swap two elements in a tuple.\n",
    "# Original tuple\n",
    "my_tuple = (1, 2, 3, 4, 5)\n",
    "\n",
    "index1 = 1\n",
    "index2 = 3\n",
    "\n",
    "tuple_list = list(my_tuple)\n",
    "\n",
    "tuple_list[index1], tuple_list[index2] = tuple_list[index2], tuple_list[index1]\n",
    "\n",
    "# Convert the list back to a tuple\n",
    "swapped_tuple = tuple(tuple_list)\n",
    "\n",
    "# Print the original and swapped tuples\n",
    "print(\"Original Tuple:\", my_tuple)\n",
    "print(\"Swapped Tuple:\", swapped_tuple)\n",
    "\n"
   ]
  },
  {
   "cell_type": "code",
   "execution_count": null,
   "metadata": {},
   "outputs": [],
   "source": [
    "# 44. Reverse the elements of a tuple.\n",
    "my_tuple = (1, 2, 3, 4, 5)\n",
    "my_tuple = tuple(reversed(my_tuple))\n",
    "print(my_tuple)"
   ]
  },
  {
   "cell_type": "code",
   "execution_count": null,
   "metadata": {},
   "outputs": [],
   "source": [
    "# 45. Create a tuple of the first `n` powers of 2.\n",
    "n = 5\n",
    "powers_of_two_tuple = tuple(2 ** i for i in range(n))\n",
    "\n",
    "# Print the result\n",
    "print(powers_of_two_tuple)\n"
   ]
  },
  {
   "cell_type": "code",
   "execution_count": null,
   "metadata": {},
   "outputs": [],
   "source": [
    "# 46. Find the longest string in a tuple of strings.\n",
    "string_tuple = (\"apple\", \"banana\", \"kiwi\", \"strawberry\", \"orange\")\n",
    "longest_string = max(string_tuple, key=len)\n",
    "print(\"Longest string:\", longest_string)"
   ]
  },
  {
   "cell_type": "code",
   "execution_count": null,
   "metadata": {},
   "outputs": [],
   "source": [
    "# 47. Find the shortest string in a tuple of strings.\n",
    "string_tuple = (\"apple\", \"banana\", \"kiwi\", \"strawberry\", \"orange\")\n",
    "longest_string = min(string_tuple, key=len)\n",
    "print(\"Longest string:\", longest_string)"
   ]
  },
  {
   "cell_type": "code",
   "execution_count": null,
   "metadata": {},
   "outputs": [],
   "source": [
    "# 48. Create a tuple of the first `n` triangular numbers.\n",
    "n = 5\n",
    "triangular_numbers_tuple = tuple((i * (i + 1)) // 2 for i in range(1, n + 1))\n",
    "print(triangular_numbers_tuple)\n"
   ]
  },
  {
   "cell_type": "code",
   "execution_count": null,
   "metadata": {},
   "outputs": [],
   "source": [
    "# 49. Check if a tuple contains another tuple as a subsequence.\n",
    "def is_subsequence(main_tuple, sub_tuple):\n",
    "    m, n = len(main_tuple), len(sub_tuple)\n",
    "    \n",
    "    # Iterate through the main tuple\n",
    "    for i in range(m - n + 1):\n",
    "        # Check if the sub_tuple is a subsequence\n",
    "        if main_tuple[i:i + n] == sub_tuple:\n",
    "            return True\n",
    "    \n",
    "    return False\n",
    "\n",
    "# Example usage\n",
    "main_tuple = (1, 2, 3, 4, 5, 6, 7, 8)\n",
    "sub_tuple = (3, 4, 5)\n",
    "\n",
    "# Check if sub_tuple is a subsequence of main_tuple\n",
    "result = is_subsequence(main_tuple, sub_tuple)\n",
    "\n",
    "# Print the result\n",
    "print(result)\n"
   ]
  },
  {
   "cell_type": "code",
   "execution_count": null,
   "metadata": {},
   "outputs": [],
   "source": [
    "# 50. Create a tuple of alternating 1s and 0s of length `n`.\n",
    "# Create a tuple of alternating 1s and 0s of length 8\n",
    "n = 8\n",
    "alternating_tuple_result = tuple(1 if i % 2 == 0 else 0 for i in range(n))\n",
    "\n",
    "# Print the result\n",
    "print(alternating_tuple_result)\n"
   ]
  },
  {
   "cell_type": "markdown",
   "metadata": {},
   "source": [
    "Set Based Practice Problem :"
   ]
  },
  {
   "cell_type": "code",
   "execution_count": null,
   "metadata": {},
   "outputs": [],
   "source": [
    "# 1. Create a set with integers from 1 to 5.\n",
    "set1 = {1,2,3,4,5}\n",
    "print(type(set1))"
   ]
  },
  {
   "cell_type": "code",
   "execution_count": null,
   "metadata": {},
   "outputs": [],
   "source": [
    "# 2. Add an element to a set.\n",
    "set1 = {1,2,3,4,5}\n",
    "set1.add(6)\n",
    "print(type(set1))\n",
    "print(set1)"
   ]
  },
  {
   "cell_type": "code",
   "execution_count": null,
   "metadata": {},
   "outputs": [],
   "source": [
    "# 3. Remove an element from a set.\n",
    "set1 = {'1','2','3','4','5'}\n",
    "set1.remove('4')\n",
    "print(set1)"
   ]
  },
  {
   "cell_type": "code",
   "execution_count": null,
   "metadata": {},
   "outputs": [],
   "source": [
    "# 4. Check if an element exists in a set.\n",
    "set1 = {1,2,3,4,5}\n",
    "element_to_chk = 31 \n",
    "print(\"element exists \" if element_to_chk in set1 else \"element does not exists\")\n"
   ]
  },
  {
   "cell_type": "code",
   "execution_count": null,
   "metadata": {},
   "outputs": [],
   "source": [
    "# 5. Find the length of a set without using the `len()` function.\n",
    "set1 = {1,2,3,4,5}\n",
    "counter = 0\n",
    "for item in set1:\n",
    "    counter += 1\n",
    "print(f\"length of the set {set1} is {counter}\")\n"
   ]
  },
  {
   "cell_type": "code",
   "execution_count": null,
   "metadata": {},
   "outputs": [],
   "source": [
    "# 6. Clear all elements from a set.\n",
    "set1 = {1,2,3,4,5}\n",
    "print(f\"before clearing the set {set1}\")\n",
    "set1.clear()\n",
    "print(f\"after clearing the set {set1}\")"
   ]
  },
  {
   "cell_type": "code",
   "execution_count": null,
   "metadata": {},
   "outputs": [],
   "source": [
    "# 7. Create a set of even numbers from 1 to 10.\n",
    "set1= {item for item in range(1,11) if item % 2 == 0}\n",
    "print(type(set1))\n",
    "print(set1)"
   ]
  },
  {
   "cell_type": "code",
   "execution_count": null,
   "metadata": {},
   "outputs": [],
   "source": [
    "# 8. Create a set of odd numbers from 1 to 10.\n",
    "set1= {item for item in range(1,11) if item % 2 != 0}\n",
    "print(type(set1))\n",
    "print(set1)"
   ]
  },
  {
   "cell_type": "code",
   "execution_count": null,
   "metadata": {},
   "outputs": [],
   "source": [
    "# 9. Find the union of two sets.\n",
    "set1= {item for item in range(1,11) if item % 2 != 0}\n",
    "set2 = {item for item in range(1,11) if item % 2 == 0}\n",
    "print(set1.union(set2))"
   ]
  },
  {
   "cell_type": "code",
   "execution_count": null,
   "metadata": {},
   "outputs": [],
   "source": [
    "# 10. Find the intersection of two sets.\n",
    "set1= {2, 4, 6, 8, 10}\n",
    "set2 = {2, 4, 6, 8, 10, 12, 14, 16, 18, 20}\n",
    "print(set1.intersection(set2))"
   ]
  },
  {
   "cell_type": "code",
   "execution_count": null,
   "metadata": {},
   "outputs": [],
   "source": [
    "# 11. Find the difference between two sets.\n",
    "set1= {2, 4, 6, 8, 10}\n",
    "set2 = {2, 4, 6, 8, 10, 12, 14, 16, 18, 20}\n",
    "print(set2.difference(set1))"
   ]
  },
  {
   "cell_type": "code",
   "execution_count": null,
   "metadata": {},
   "outputs": [],
   "source": [
    "# 12. Check if a set is a subset of another set.\n",
    "set1= {2, 4, 6, 8, 10}\n",
    "set2 = {2, 4, 6, 8, 10, 12, 14, 16, 18, 20}\n",
    "print(set2.issubset(set1)) # False\n",
    "print(set1.issubset(set2)) # True"
   ]
  },
  {
   "cell_type": "code",
   "execution_count": null,
   "metadata": {},
   "outputs": [],
   "source": [
    "# 13. Check if a set is a superset of another set.\n",
    "set1= {2, 4, 6, 8, 10}\n",
    "set2 = {2, 4, 6, 8, 10, 12, 14, 16, 18, 20}\n",
    "print(set2.issuperset(set1)) # True\n",
    "print(set1.issuperset(set2)) # False"
   ]
  },
  {
   "cell_type": "code",
   "execution_count": null,
   "metadata": {},
   "outputs": [],
   "source": [
    "# 14. Create a set from a list.\n",
    "#list1 = [1,2,3,4,5,6,7,8,9]\n",
    "set1 = set([1,2,3,4,5,6,7,8,9])\n",
    "print(type(set1))\n",
    "print(set1)"
   ]
  },
  {
   "cell_type": "code",
   "execution_count": null,
   "metadata": {},
   "outputs": [],
   "source": [
    "# 15. Convert a set to a list.\n",
    "set1= {2, 4, 6, 8, 10}\n",
    "print(list(set1))"
   ]
  },
  {
   "cell_type": "code",
   "execution_count": null,
   "metadata": {},
   "outputs": [],
   "source": [
    "# 16. Remove a random element from a set.\n",
    "import random\n",
    "set1= {item for item in range(1,101) }\n",
    "# using pop without index, Since sets are unordered, the choice of which element is removed is not guaranteed to be predictable.\n",
    "removed_element = set1.pop()\n",
    "print(f\"Removed element: {removed_element}\")\n",
    "\n",
    "# using random class to generate a random item to remove\n",
    "random_val  = random.randint(1, 50)\n",
    "set1.remove(random_val)\n",
    "print(f\"Removed element: {random_val}\")\n",
    "\n",
    "print(f\"Updated set: {set1}\")"
   ]
  },
  {
   "cell_type": "code",
   "execution_count": null,
   "metadata": {},
   "outputs": [],
   "source": [
    "# 17. Pop an element from a set.\n",
    "set1= {2, 4, 6, 8, 10}\n",
    "removed_element = set1.pop()\n",
    "print(f\"Removed element: {removed_element}\")\n",
    "print(f\"Updated set: {set1}\")"
   ]
  },
  {
   "cell_type": "code",
   "execution_count": null,
   "metadata": {},
   "outputs": [],
   "source": [
    "# 18. Check if two sets have no elements in common.\n",
    "set1= {2, 4, 6, 8, 10}\n",
    "set2 = {21, 41, 61, 81, 101, 121, 141, 161, 181, 201}\n",
    "print(set1.issubset(set2))\n",
    "print(\"elements are in common\" if set1.issubset(set2) or set1.issuperset(set2) else \"no elements in common\")"
   ]
  },
  {
   "cell_type": "code",
   "execution_count": null,
   "metadata": {},
   "outputs": [],
   "source": [
    "# 19. Find the symmetric difference between two sets.\n",
    "set1= {2, 4, 6, 8, 10}\n",
    "set2 = {2, 4, 6, 8, 10, 12, 14, 16, 18, 20}\n",
    "# 1.\n",
    "print(set1.symmetric_difference(set2))\n",
    "# 2 .\n",
    "print(set1^set2)"
   ]
  },
  {
   "cell_type": "code",
   "execution_count": null,
   "metadata": {},
   "outputs": [],
   "source": [
    "# 20. Update a set with elements from another set.\n",
    "set1= {2, 4, 6, 8, 10}\n",
    "set2 = {2, 4, 6, 8, 10, 12, 14, 16, 18, 20}\n",
    "set1.update(set2)\n",
    "print(set1)"
   ]
  },
  {
   "cell_type": "code",
   "execution_count": null,
   "metadata": {},
   "outputs": [],
   "source": [
    "# 21. Create a set of the first 5 prime numbers.\n",
    "def check_prime_number(num):\n",
    "    if num <= 1:\n",
    "        return False\n",
    "    for i  in range(2,(int(num**0.5) + 1) ):\n",
    "        if num % i == 0:\n",
    "            return False\n",
    "    return True\n",
    "\n",
    "prime_num_list = []\n",
    "for i in range (1, 200):\n",
    "    if len(prime_num_list) < 6: # add till the list size becomes 5 \n",
    "        if (check_prime_number(i)):\n",
    "            prime_num_list.append(i)\n",
    "    else:\n",
    "        break\n",
    "print(set(prime_num_list))\n"
   ]
  },
  {
   "cell_type": "code",
   "execution_count": null,
   "metadata": {},
   "outputs": [],
   "source": [
    "# 22. Check if two sets are identical.\n",
    "set1= {2, 4, 6, 8, 10}\n",
    "set2 = {2, 4, 6, 8, 10}\n",
    "if(set1 == set2):\n",
    "    print(\"identical set\")\n",
    "else:\n",
    "    print(\"non identical set\")"
   ]
  },
  {
   "cell_type": "code",
   "execution_count": null,
   "metadata": {},
   "outputs": [],
   "source": [
    "# 23. Create a frozen set.\n",
    "my_set = {1, 2, 3, 4, 5}\n",
    "my_frozen_set = frozenset(my_set)\n",
    "print(\"Original Set:\", my_set)\n",
    "print(\"Frozen Set:\", my_frozen_set)\n"
   ]
  },
  {
   "cell_type": "code",
   "execution_count": null,
   "metadata": {},
   "outputs": [],
   "source": [
    "# 24. Check if a set is disjoint with another set.\n",
    "set1 = {1, 2, 3}\n",
    "set2 = {4, 5, 6, 3}\n",
    "disjoint_check = set1.isdisjoint(set2)\n",
    "\n",
    "if disjoint_check:\n",
    "    print(\"The sets are disjoint.\")\n",
    "else:\n",
    "    print(\"The sets have common elements.\")\n"
   ]
  },
  {
   "cell_type": "code",
   "execution_count": null,
   "metadata": {},
   "outputs": [],
   "source": [
    "# 25. Create a set of squares of numbers from 1 to 5.\n",
    "set1 = {item ** 2 for item in range(1,6)}\n",
    "print(set1)"
   ]
  },
  {
   "cell_type": "code",
   "execution_count": null,
   "metadata": {},
   "outputs": [],
   "source": [
    "# 26. Filter out all even numbers from a set.\n",
    "set1 = {1, 2, 3, 4, 5}\n",
    "even_num_set = {item for item in set1 if item % 2 == 0}\n",
    "print(even_num_set)"
   ]
  },
  {
   "cell_type": "code",
   "execution_count": null,
   "metadata": {},
   "outputs": [],
   "source": [
    "# 27. Multiply all elements in a set by 2.\n",
    "set1 = {1, 2, 3, 4, 5}\n",
    "final_set = {item*2 for item in set1}\n",
    "print(final_set)"
   ]
  },
  {
   "cell_type": "code",
   "execution_count": null,
   "metadata": {},
   "outputs": [],
   "source": [
    "# 28. Create a set of random numbers.\n",
    "import random\n",
    "set1 = {random.randint(1, 100) for _ in range (5)}\n",
    "print(set1)"
   ]
  },
  {
   "cell_type": "code",
   "execution_count": null,
   "metadata": {},
   "outputs": [],
   "source": [
    "# 29. Check if a set is empty.\n",
    "set1 = {1, 2, 3, 4, 5}\n",
    "print(\"set is empty\" if len(set1)<1 else \"set is not empty\")"
   ]
  },
  {
   "cell_type": "code",
   "execution_count": null,
   "metadata": {},
   "outputs": [],
   "source": [
    "# 30. Create a nested set (hint: use frozenset).\n",
    "s = set()\n",
    "s.add(frozenset((1,2)))\n",
    "s.add(frozenset((3,4)))\n",
    "s.add(frozenset((5,6)))\n",
    "print(s)"
   ]
  },
  {
   "cell_type": "code",
   "execution_count": null,
   "metadata": {},
   "outputs": [],
   "source": [
    "# 31. Remove an element from a set using the discard method.\n",
    "set1 = {1, 2, 3, 4, 5}\n",
    "print(f\"before discard {set1}\")\n",
    "set1.discard(3)\n",
    "print(f\"after discard {set1}\")"
   ]
  },
  {
   "cell_type": "code",
   "execution_count": null,
   "metadata": {},
   "outputs": [],
   "source": [
    "# 32. Compare two sets.\n",
    "set1 = {1, 2, 3, 5, 6, 7}\n",
    "set2 = {1, 2, 3,5,6,7}\n",
    "if(set1 == set2):\n",
    "    print(f\"{set1} is equal to {set2}\")\n",
    "else:\n",
    "    print(f\"{set1} is not equal to {set2}\")\n",
    "\n",
    "# Check if set2 is a subset of set1\n",
    "is_subset = set2.issubset(set1)\n",
    "print(\"Set2 is a subset of set1:\", is_subset)\n",
    "\n",
    "# Check if set1 is a superset of set2\n",
    "is_superset = set1.issuperset(set2)\n",
    "print(\"Set1 is a superset of set2:\", is_superset)\n",
    "\n",
    "# Find the intersection of sets\n",
    "intersection = set1.intersection(set2)\n",
    "print(\"Intersection of sets:\", intersection)\n",
    "\n",
    "# Find the difference between sets\n",
    "difference = set1.difference(set2)\n",
    "print(\"Difference between sets:\", difference)"
   ]
  },
  {
   "cell_type": "code",
   "execution_count": null,
   "metadata": {},
   "outputs": [],
   "source": [
    "# 33. Create a set from a string.\n",
    "str1 = \"Create a set from a string\"\n",
    "set1 = set(str1.split())\n",
    "print(set1)"
   ]
  },
  {
   "cell_type": "code",
   "execution_count": null,
   "metadata": {},
   "outputs": [],
   "source": [
    "# 34. Convert a set of strings to a set of integers.\n",
    "set1 = {'2', '7', '1', '5', '6', '3'}\n",
    "int_str = {int(item) for item in set1}\n",
    "print(int_str)"
   ]
  },
  {
   "cell_type": "code",
   "execution_count": null,
   "metadata": {},
   "outputs": [],
   "source": [
    "# 35. Convert a set of integers to a set of strings.\n",
    "set1 = {1, 2, 3, 5, 6, 7}\n",
    "str_set = {str(item) for item in set1}\n",
    "print(str_set)"
   ]
  },
  {
   "cell_type": "code",
   "execution_count": null,
   "metadata": {},
   "outputs": [],
   "source": [
    "# 36. Create a set from a tuple.\n",
    "tup1 = (1, 2, 3, 4, 5, 6, 7)\n",
    "print(type(tup1))\n",
    "print(tup1)\n",
    "set1 = set(tup1)\n",
    "print(type(set1))\n",
    "print(set1)"
   ]
  },
  {
   "cell_type": "code",
   "execution_count": null,
   "metadata": {},
   "outputs": [],
   "source": [
    "# 37. Convert a set to a tuple.\n",
    "set1 = {1, 2, 3, 4, 5, 6, 7}\n",
    "print(type(set1))\n",
    "print(set1)\n",
    "tup1 = tuple(set1)\n",
    "print(type(tup1))\n",
    "print(tup1)"
   ]
  },
  {
   "cell_type": "code",
   "execution_count": null,
   "metadata": {},
   "outputs": [],
   "source": [
    "# 38. Find the maximum value in a set.\n",
    "set1 = {1, 2, 3, 4, 5, 6, 7}\n",
    "print(f\"max value in {set1} is {max(set1)}\")"
   ]
  },
  {
   "cell_type": "code",
   "execution_count": null,
   "metadata": {},
   "outputs": [],
   "source": [
    "# 39. Find the minimum value in a set.\n",
    "set1 = {1, 2, 3, 4, 5, 6, 7}\n",
    "print(f\"min value in {set1} is {min(set1)}\")"
   ]
  },
  {
   "cell_type": "code",
   "execution_count": null,
   "metadata": {},
   "outputs": [],
   "source": [
    "# 40. Create a set from user input.\n",
    "user_input = input(\"provide your input seprated by comma\")\n",
    "set1 = {item for item in user_input.split(\",\")}\n",
    "print(set1)"
   ]
  },
  {
   "cell_type": "code",
   "execution_count": null,
   "metadata": {},
   "outputs": [],
   "source": [
    "# 41. Check if the intersection of two sets is empty.\n",
    "set1 = {1, 2, 3, 5, 6, 7}\n",
    "set2 = {1, 2, 3, 5, 6, 7}\n",
    "\n",
    "print(\"intersection is not empty\" if len(set1.intersection(set2)) > 0 else \"intersection is empty\")\n",
    "print(set1.intersection(set2))"
   ]
  },
  {
   "cell_type": "code",
   "execution_count": null,
   "metadata": {},
   "outputs": [],
   "source": [
    "# 42. Create a set of the first 5 Fibonacci numbers.\n",
    "def generate_fibonacci(n):\n",
    "    fibonacci_sequence = [0, 1]\n",
    "    while len(fibonacci_sequence) < n:\n",
    "        next_fibonacci = fibonacci_sequence[-1] + fibonacci_sequence[-2]\n",
    "        fibonacci_sequence.append(next_fibonacci)\n",
    "    return set(fibonacci_sequence)\n",
    "\n",
    "first_5_fibonacci = generate_fibonacci(5)\n",
    "\n",
    "print(first_5_fibonacci)\n",
    "\n"
   ]
  },
  {
   "cell_type": "code",
   "execution_count": null,
   "metadata": {},
   "outputs": [],
   "source": [
    "# 43. Remove duplicates from a list using sets.\n",
    "list1 = [1,2,3,4,5,6,7,1,2,3]\n",
    "print(f\"orignal list {list1}\")\n",
    "unique_list = list(set(list1))\n",
    "print(f\"unique item list {unique_list}\")"
   ]
  },
  {
   "cell_type": "code",
   "execution_count": null,
   "metadata": {},
   "outputs": [],
   "source": [
    "# 44. Check if two sets have the same elements, regardless of their count.\n",
    "set1 = {1, 2, 3, 4}\n",
    "set2 = {3, 4, 1, 2}\n",
    "\n",
    "are_equivalent = set1 == set2\n",
    "print(\"Sets are equivalent:\", are_equivalent)\n"
   ]
  },
  {
   "cell_type": "code",
   "execution_count": null,
   "metadata": {},
   "outputs": [],
   "source": [
    "# 45. Create a set of the first `n` powers of 2.\n",
    "n = 5\n",
    "powers_of_two_set = set(2 ** i for i in range(n))\n",
    "\n",
    "# Print the result\n",
    "print(powers_of_two_set)\n"
   ]
  },
  {
   "cell_type": "code",
   "execution_count": null,
   "metadata": {},
   "outputs": [],
   "source": [
    "# 46. Find the common elements between a set and a list.\n",
    "list1 = [1,2,3,4,5]\n",
    "set1 = {5,6,7,8,9}\n",
    "print(f\"list: {list1}\")\n",
    "print(f\"set :{set1}\")\n",
    "common_elements = set1.intersection(set(list1))\n",
    "print(f\"common elements: {common_elements}\")\n"
   ]
  },
  {
   "cell_type": "code",
   "execution_count": null,
   "metadata": {},
   "outputs": [],
   "source": [
    "# 47. Create a set of the first `n` triangular numbers.\n",
    "n = 5\n",
    "triangular_numbers_set = set((i * (i + 1)) // 2 for i in range(1, n + 1))\n",
    "print(triangular_numbers_set)"
   ]
  },
  {
   "cell_type": "code",
   "execution_count": null,
   "metadata": {},
   "outputs": [],
   "source": [
    "# 48. Check if a set contains another set as a subset.\n",
    "set1 = {1, 2, 3, 4, 5}\n",
    "set2 = {2, 3}\n",
    "is_subset = set2.issubset(set1)\n",
    "print(\"Set2 is a subset of set1:\", is_subset)"
   ]
  },
  {
   "cell_type": "code",
   "execution_count": null,
   "metadata": {},
   "outputs": [],
   "source": [
    "# 49. Create a set of alternating 1s and 0s of length `n`.\n",
    "count = 10\n",
    "# we will see only 1 , 0 one times as this a set duplicate will not be allowed\n",
    "list1 = [1 if item % 2 == 0 else 0 for item in range(count)]\n",
    "print(list1)\n",
    "set1 = set(list1)\n",
    "\n",
    "print(set1)"
   ]
  },
  {
   "cell_type": "code",
   "execution_count": null,
   "metadata": {},
   "outputs": [],
   "source": [
    "# 50. Merge multiple sets into one.\n",
    "# Define multiple sets\n",
    "set1 = {1, 2, 3}\n",
    "set2 = {3, 4, 5}\n",
    "set3 = {5, 6, 7}\n",
    "\n",
    "# Merge sets using union() method\n",
    "merged_set_union = set1.union(set2, set3)\n",
    "\n",
    "# Alternatively, merge sets using the | operator\n",
    "merged_set_operator = set1 | set2 | set3\n",
    "\n",
    "print(\"Merged set using union():\", merged_set_union)\n",
    "print(\"Merged set using | operator:\", merged_set_operator)\n"
   ]
  },
  {
   "cell_type": "code",
   "execution_count": null,
   "metadata": {},
   "outputs": [],
   "source": []
  }
 ],
 "metadata": {
  "kernelspec": {
   "display_name": "Python 3",
   "language": "python",
   "name": "python3"
  },
  "language_info": {
   "codemirror_mode": {
    "name": "ipython",
    "version": 3
   },
   "file_extension": ".py",
   "mimetype": "text/x-python",
   "name": "python",
   "nbconvert_exporter": "python",
   "pygments_lexer": "ipython3",
   "version": "3.11.6"
  }
 },
 "nbformat": 4,
 "nbformat_minor": 2
}
